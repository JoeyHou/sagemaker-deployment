{
 "cells": [
  {
   "cell_type": "markdown",
   "metadata": {},
   "source": [
    "# Sentiment Analysis\n",
    "\n",
    "## Using XGBoost in SageMaker\n",
    "\n",
    "_Deep Learning Nanodegree Program | Deployment_\n",
    "\n",
    "---\n",
    "\n",
    "In this example of using Amazon's SageMaker service we will construct a random tree model to predict the sentiment of a movie review. You may have seen a version of this example in a pervious lesson although it would have been done using the sklearn package. Instead, we will be using the XGBoost package as it is provided to us by Amazon.\n",
    "\n",
    "## Instructions\n",
    "\n",
    "Some template code has already been provided for you, and you will need to implement additional functionality to successfully complete this notebook. You will not need to modify the included code beyond what is requested. Sections that begin with '**TODO**' in the header indicate that you need to complete or implement some portion within them. Instructions will be provided for each section and the specifics of the implementation are marked in the code block with a `# TODO: ...` comment. Please be sure to read the instructions carefully!\n",
    "\n",
    "In addition to implementing code, there will be questions for you to answer which relate to the task and your implementation. Each section where you will answer a question is preceded by a '**Question:**' header. Carefully read each question and provide your answer below the '**Answer:**' header by editing the Markdown cell.\n",
    "\n",
    "> **Note**: Code and Markdown cells can be executed using the **Shift+Enter** keyboard shortcut. In addition, a cell can be edited by typically clicking it (double-click for Markdown cells) or by pressing **Enter** while it is highlighted."
   ]
  },
  {
   "cell_type": "code",
   "execution_count": 1,
   "metadata": {
    "scrolled": true
   },
   "outputs": [
    {
     "name": "stdout",
     "output_type": "stream",
     "text": [
      "Collecting sagemaker==1.72.0\n",
      "  Using cached sagemaker-1.72.0-py2.py3-none-any.whl\n",
      "Requirement already satisfied: boto3>=1.14.12 in /home/ec2-user/anaconda3/envs/python3/lib/python3.6/site-packages (from sagemaker==1.72.0) (1.17.76)\n",
      "Requirement already satisfied: protobuf>=3.1 in /home/ec2-user/anaconda3/envs/python3/lib/python3.6/site-packages (from sagemaker==1.72.0) (3.15.2)\n",
      "Collecting smdebug-rulesconfig==0.1.4\n",
      "  Using cached smdebug_rulesconfig-0.1.4-py2.py3-none-any.whl (10 kB)\n",
      "Requirement already satisfied: importlib-metadata>=1.4.0 in /home/ec2-user/anaconda3/envs/python3/lib/python3.6/site-packages (from sagemaker==1.72.0) (3.7.0)\n",
      "Requirement already satisfied: packaging>=20.0 in /home/ec2-user/anaconda3/envs/python3/lib/python3.6/site-packages (from sagemaker==1.72.0) (20.9)\n",
      "Requirement already satisfied: protobuf3-to-dict>=0.1.5 in /home/ec2-user/anaconda3/envs/python3/lib/python3.6/site-packages (from sagemaker==1.72.0) (0.1.5)\n",
      "Requirement already satisfied: numpy>=1.9.0 in /home/ec2-user/anaconda3/envs/python3/lib/python3.6/site-packages (from sagemaker==1.72.0) (1.19.5)\n",
      "Requirement already satisfied: scipy>=0.19.0 in /home/ec2-user/anaconda3/envs/python3/lib/python3.6/site-packages (from sagemaker==1.72.0) (1.5.3)\n",
      "Requirement already satisfied: jmespath<1.0.0,>=0.7.1 in /home/ec2-user/anaconda3/envs/python3/lib/python3.6/site-packages (from boto3>=1.14.12->sagemaker==1.72.0) (0.10.0)\n",
      "Requirement already satisfied: s3transfer<0.5.0,>=0.4.0 in /home/ec2-user/anaconda3/envs/python3/lib/python3.6/site-packages (from boto3>=1.14.12->sagemaker==1.72.0) (0.4.2)\n",
      "Requirement already satisfied: botocore<1.21.0,>=1.20.76 in /home/ec2-user/anaconda3/envs/python3/lib/python3.6/site-packages (from boto3>=1.14.12->sagemaker==1.72.0) (1.20.76)\n",
      "Requirement already satisfied: python-dateutil<3.0.0,>=2.1 in /home/ec2-user/anaconda3/envs/python3/lib/python3.6/site-packages (from botocore<1.21.0,>=1.20.76->boto3>=1.14.12->sagemaker==1.72.0) (2.8.1)\n",
      "Requirement already satisfied: urllib3<1.27,>=1.25.4 in /home/ec2-user/anaconda3/envs/python3/lib/python3.6/site-packages (from botocore<1.21.0,>=1.20.76->boto3>=1.14.12->sagemaker==1.72.0) (1.26.4)\n",
      "Requirement already satisfied: zipp>=0.5 in /home/ec2-user/anaconda3/envs/python3/lib/python3.6/site-packages (from importlib-metadata>=1.4.0->sagemaker==1.72.0) (3.4.0)\n",
      "Requirement already satisfied: typing-extensions>=3.6.4 in /home/ec2-user/anaconda3/envs/python3/lib/python3.6/site-packages (from importlib-metadata>=1.4.0->sagemaker==1.72.0) (3.7.4.3)\n",
      "Requirement already satisfied: pyparsing>=2.0.2 in /home/ec2-user/anaconda3/envs/python3/lib/python3.6/site-packages (from packaging>=20.0->sagemaker==1.72.0) (2.4.7)\n",
      "Requirement already satisfied: six>=1.9 in /home/ec2-user/anaconda3/envs/python3/lib/python3.6/site-packages (from protobuf>=3.1->sagemaker==1.72.0) (1.15.0)\n",
      "Installing collected packages: smdebug-rulesconfig, sagemaker\n",
      "  Attempting uninstall: smdebug-rulesconfig\n",
      "    Found existing installation: smdebug-rulesconfig 1.0.1\n",
      "    Uninstalling smdebug-rulesconfig-1.0.1:\n",
      "      Successfully uninstalled smdebug-rulesconfig-1.0.1\n",
      "  Attempting uninstall: sagemaker\n",
      "    Found existing installation: sagemaker 2.41.0\n",
      "    Uninstalling sagemaker-2.41.0:\n",
      "      Successfully uninstalled sagemaker-2.41.0\n",
      "Successfully installed sagemaker-1.72.0 smdebug-rulesconfig-0.1.4\n"
     ]
    }
   ],
   "source": [
    "# Make sure that we use SageMaker 1.x\n",
    "!pip install sagemaker==1.72.0"
   ]
  },
  {
   "cell_type": "markdown",
   "metadata": {},
   "source": [
    "## Step 1: Downloading the data\n",
    "\n",
    "The dataset we are going to use is very popular among researchers in Natural Language Processing, usually referred to as the [IMDb dataset](http://ai.stanford.edu/~amaas/data/sentiment/). It consists of movie reviews from the website [imdb.com](http://www.imdb.com/), each labeled as either '**pos**itive', if the reviewer enjoyed the film, or '**neg**ative' otherwise.\n",
    "\n",
    "> Maas, Andrew L., et al. [Learning Word Vectors for Sentiment Analysis](http://ai.stanford.edu/~amaas/data/sentiment/). In _Proceedings of the 49th Annual Meeting of the Association for Computational Linguistics: Human Language Technologies_. Association for Computational Linguistics, 2011.\n",
    "\n",
    "We begin by using some Jupyter Notebook magic to download and extract the dataset."
   ]
  },
  {
   "cell_type": "code",
   "execution_count": 2,
   "metadata": {},
   "outputs": [
    {
     "name": "stdout",
     "output_type": "stream",
     "text": [
      "mkdir: cannot create directory ‘../data’: File exists\n",
      "--2021-06-23 09:38:47--  http://ai.stanford.edu/~amaas/data/sentiment/aclImdb_v1.tar.gz\n",
      "Resolving ai.stanford.edu (ai.stanford.edu)... 171.64.68.10\n",
      "Connecting to ai.stanford.edu (ai.stanford.edu)|171.64.68.10|:80... connected.\n",
      "HTTP request sent, awaiting response... 200 OK\n",
      "Length: 84125825 (80M) [application/x-gzip]\n",
      "Saving to: ‘../data/aclImdb_v1.tar.gz’\n",
      "\n",
      "../data/aclImdb_v1. 100%[===================>]  80.23M  23.5MB/s    in 4.4s    \n",
      "\n",
      "2021-06-23 09:38:52 (18.2 MB/s) - ‘../data/aclImdb_v1.tar.gz’ saved [84125825/84125825]\n",
      "\n"
     ]
    }
   ],
   "source": [
    "%mkdir ../data\n",
    "!wget -O ../data/aclImdb_v1.tar.gz http://ai.stanford.edu/~amaas/data/sentiment/aclImdb_v1.tar.gz\n",
    "!tar -zxf ../data/aclImdb_v1.tar.gz -C ../data"
   ]
  },
  {
   "cell_type": "markdown",
   "metadata": {},
   "source": [
    "## Step 2: Preparing the data\n",
    "\n",
    "The data we have downloaded is split into various files, each of which contains a single review. It will be much easier going forward if we combine these individual files into two large files, one for training and one for testing."
   ]
  },
  {
   "cell_type": "code",
   "execution_count": 76,
   "metadata": {},
   "outputs": [],
   "source": [
    "import os\n",
    "import glob\n",
    "\n",
    "def read_imdb_data(data_dir='../data/aclImdb'):\n",
    "    data = {}\n",
    "    labels = {}\n",
    "    \n",
    "    for data_type in ['train', 'test']:\n",
    "        data[data_type] = {}\n",
    "        labels[data_type] = {}\n",
    "        \n",
    "        for sentiment in ['pos', 'neg']:\n",
    "            data[data_type][sentiment] = []\n",
    "            labels[data_type][sentiment] = []\n",
    "            \n",
    "            path = os.path.join(data_dir, data_type, sentiment, '*.txt')\n",
    "            files = glob.glob(path)\n",
    "            \n",
    "            for f in files:\n",
    "                with open(f) as review:\n",
    "                    data[data_type][sentiment].append(review.read())\n",
    "                    # Here we represent a positive review by '1' and a negative review by '0'\n",
    "                    labels[data_type][sentiment].append(1 if sentiment == 'pos' else 0)\n",
    "                    \n",
    "            assert len(data[data_type][sentiment]) == len(labels[data_type][sentiment]), \\\n",
    "                    \"{}/{} data size does not match labels size\".format(data_type, sentiment)\n",
    "                \n",
    "    return data, labels"
   ]
  },
  {
   "cell_type": "code",
   "execution_count": 18,
   "metadata": {},
   "outputs": [
    {
     "name": "stdout",
     "output_type": "stream",
     "text": [
      "IMDB reviews: train = 12500 pos / 12500 neg, test = 12500 pos / 12500 neg\n"
     ]
    }
   ],
   "source": [
    "data, labels = read_imdb_data()\n",
    "print(\"IMDB reviews: train = {} pos / {} neg, test = {} pos / {} neg\".format(\n",
    "            len(data['train']['pos']), len(data['train']['neg']),\n",
    "            len(data['test']['pos']), len(data['test']['neg'])))"
   ]
  },
  {
   "cell_type": "code",
   "execution_count": 19,
   "metadata": {},
   "outputs": [],
   "source": [
    "from sklearn.utils import shuffle\n",
    "\n",
    "def prepare_imdb_data(data, labels):\n",
    "    \"\"\"Prepare training and test sets from IMDb movie reviews.\"\"\"\n",
    "    \n",
    "    #Combine positive and negative reviews and labels\n",
    "    data_train = data['train']['pos'] + data['train']['neg']\n",
    "    data_test = data['test']['pos'] + data['test']['neg']\n",
    "    labels_train = labels['train']['pos'] + labels['train']['neg']\n",
    "    labels_test = labels['test']['pos'] + labels['test']['neg']\n",
    "    \n",
    "    #Shuffle reviews and corresponding labels within training and test sets\n",
    "    data_train, labels_train = shuffle(data_train, labels_train)\n",
    "    data_test, labels_test = shuffle(data_test, labels_test)\n",
    "    \n",
    "    # Return a unified training data, test data, training labels, test labets\n",
    "    return data_train, data_test, labels_train, labels_test"
   ]
  },
  {
   "cell_type": "code",
   "execution_count": 20,
   "metadata": {},
   "outputs": [
    {
     "name": "stdout",
     "output_type": "stream",
     "text": [
      "IMDb reviews (combined): train = 25000, test = 25000\n"
     ]
    }
   ],
   "source": [
    "train_X, test_X, train_y, test_y = prepare_imdb_data(data, labels)\n",
    "print(\"IMDb reviews (combined): train = {}, test = {}\".format(len(train_X), len(test_X)))"
   ]
  },
  {
   "cell_type": "code",
   "execution_count": 21,
   "metadata": {},
   "outputs": [
    {
     "data": {
      "text/plain": [
       "'In 1925, childhood friends Marie Dressler (as Maggie Warren) and Polly Moran (as Lizzie Praskins) oversee the wedding of their children, Anita Page (as Helen) and Norman Foster (as John). Before the celebration, Ms. Dressler turns the reigns of her small town bank over to her son, Mr. Foster. Six years later, the Great Depression brings many bank closures, and financial insecurity. Banker Foster is able to survive, due to mother Dressler\\'s wise planning. But, Ms. Moran is worried about her fortune, and loudly demands a complete withdrawal. Other \"Warren Bank\" customers hear Moran\\'s rant, and start questioning their own solvency. Soon, the family is in financial crisis.<br /><br />Dressler\\'s huge critical and financial film hit \"Emma\" had been released early in the year, and MGM had to have wanted to get a new Dressler film out as soon as possible. Dressler\\'s 1931 hits, \"Reducing\" and \"Politics\" were still making a lot of money; and, Dressler had become 1932\\'s US #1 Box Office Star, according to the industry standard list compiled by Quigley Publications. \"Prosperity\" certainly celebrated Dressler\\'s status, but the production appears uncharacteristically sloppy, and rushed. The cast does well, considering. Some more care in direction and editing, and some retakes, would have helped\\x85 apparently, they needed it in theaters for the holidays.<br /><br />**** Prosperity (11/12/32) Sam Wood ~ Marie Dressler, Polly Moran, Anita Page, Norman Foster'"
      ]
     },
     "execution_count": 21,
     "metadata": {},
     "output_type": "execute_result"
    }
   ],
   "source": [
    "train_X[0]"
   ]
  },
  {
   "cell_type": "code",
   "execution_count": 22,
   "metadata": {},
   "outputs": [],
   "source": [
    "data = labels = None"
   ]
  },
  {
   "cell_type": "markdown",
   "metadata": {},
   "source": [
    "## Step 3: Processing the data\n",
    "\n",
    "Now that we have our training and testing datasets merged and ready to use, we need to start processing the raw data into something that will be useable by our machine learning algorithm. To begin with, we remove any html formatting that may appear in the reviews and perform some standard natural language processing in order to homogenize the data."
   ]
  },
  {
   "cell_type": "code",
   "execution_count": 23,
   "metadata": {},
   "outputs": [
    {
     "name": "stderr",
     "output_type": "stream",
     "text": [
      "[nltk_data] Downloading package stopwords to\n",
      "[nltk_data]     /home/ec2-user/nltk_data...\n",
      "[nltk_data]   Package stopwords is already up-to-date!\n"
     ]
    }
   ],
   "source": [
    "import nltk\n",
    "nltk.download(\"stopwords\")\n",
    "from nltk.corpus import stopwords\n",
    "from nltk.stem.porter import *\n",
    "stemmer = PorterStemmer()"
   ]
  },
  {
   "cell_type": "code",
   "execution_count": 24,
   "metadata": {},
   "outputs": [],
   "source": [
    "import re\n",
    "from bs4 import BeautifulSoup\n",
    "\n",
    "def review_to_words(review):\n",
    "    text = BeautifulSoup(review, \"html.parser\").get_text() # Remove HTML tags\n",
    "    text = re.sub(r\"[^a-zA-Z0-9]\", \" \", text.lower()) # Convert to lower case\n",
    "    words = text.split() # Split string into words\n",
    "    words = [w for w in words if w not in stopwords.words(\"english\")] # Remove stopwords\n",
    "    words = [PorterStemmer().stem(w) for w in words] # stem\n",
    "    \n",
    "    return words"
   ]
  },
  {
   "cell_type": "code",
   "execution_count": 30,
   "metadata": {},
   "outputs": [
    {
     "name": "stdout",
     "output_type": "stream",
     "text": [
      "Collecting tqdm\n",
      "  Downloading tqdm-4.61.1-py2.py3-none-any.whl (75 kB)\n",
      "\u001b[K     |████████████████████████████████| 75 kB 3.8 MB/s  eta 0:00:01\n",
      "\u001b[?25hInstalling collected packages: tqdm\n",
      "Successfully installed tqdm-4.61.1\n"
     ]
    }
   ],
   "source": [
    "!pip install tqdm\n",
    "from tqdm import tqdm"
   ]
  },
  {
   "cell_type": "code",
   "execution_count": 31,
   "metadata": {},
   "outputs": [],
   "source": [
    "import pickle\n",
    "\n",
    "cache_dir = os.path.join(\"../cache\", \"sentiment_analysis\")  # where to store cache files\n",
    "os.makedirs(cache_dir, exist_ok=True)  # ensure cache directory exists\n",
    "\n",
    "def preprocess_data(data_train, data_test, labels_train, labels_test,\n",
    "                    cache_dir=cache_dir, cache_file=\"preprocessed_data.pkl\"):\n",
    "    \"\"\"Convert each review to words; read from cache if available.\"\"\"\n",
    "\n",
    "    # If cache_file is not None, try to read from it first\n",
    "    cache_data = None\n",
    "    if cache_file is not None:\n",
    "        try:\n",
    "            with open(os.path.join(cache_dir, cache_file), \"rb\") as f:\n",
    "                cache_data = pickle.load(f)\n",
    "            print(\"Read preprocessed data from cache file:\", cache_file)\n",
    "        except:\n",
    "            pass  # unable to read from cache, but that's okay\n",
    "    \n",
    "    # If cache is missing, then do the heavy lifting\n",
    "    if cache_data is None:\n",
    "        # Preprocess training and test data to obtain words for each review\n",
    "        #words_train = list(map(review_to_words, data_train))\n",
    "        #words_test = list(map(review_to_words, data_test))\n",
    "        words_train = [review_to_words(review) for review in tqdm(data_train)]\n",
    "        words_test = [review_to_words(review) for review in tqdm(data_test)]\n",
    "        \n",
    "        # Write to cache file for future runs\n",
    "        if cache_file is not None:\n",
    "            cache_data = dict(words_train=words_train, words_test=words_test,\n",
    "                              labels_train=labels_train, labels_test=labels_test)\n",
    "            with open(os.path.join(cache_dir, cache_file), \"wb\") as f:\n",
    "                pickle.dump(cache_data, f)\n",
    "            print(\"Wrote preprocessed data to cache file:\", cache_file)\n",
    "    else:\n",
    "        # Unpack data loaded from cache file\n",
    "        words_train, words_test, labels_train, labels_test = (cache_data['words_train'],\n",
    "                cache_data['words_test'], cache_data['labels_train'], cache_data['labels_test'])\n",
    "    \n",
    "    return words_train, words_test, labels_train, labels_test"
   ]
  },
  {
   "cell_type": "code",
   "execution_count": 45,
   "metadata": {},
   "outputs": [
    {
     "name": "stdout",
     "output_type": "stream",
     "text": [
      "Read preprocessed data from cache file: preprocessed_data.pkl\n"
     ]
    }
   ],
   "source": [
    "# Preprocess data\n",
    "train_X, test_X, train_y, test_y = preprocess_data(train_X, test_X, train_y, test_y)"
   ]
  },
  {
   "cell_type": "code",
   "execution_count": null,
   "metadata": {},
   "outputs": [],
   "source": [
    "# train_X[0]"
   ]
  },
  {
   "cell_type": "markdown",
   "metadata": {},
   "source": [
    "### Extract Bag-of-Words features\n",
    "\n",
    "For the model we will be implementing, rather than using the reviews directly, we are going to transform each review into a Bag-of-Words feature representation. Keep in mind that 'in the wild' we will only have access to the training set so our transformer can only use the training set to construct a representation."
   ]
  },
  {
   "cell_type": "code",
   "execution_count": 33,
   "metadata": {},
   "outputs": [],
   "source": [
    "import numpy as np\n",
    "from sklearn.feature_extraction.text import CountVectorizer\n",
    "# from sklearn.externals import joblib\n",
    "import joblib\n",
    "\n",
    "# joblib is an enhanced version of pickle that is more efficient for storing NumPy arrays\n",
    "\n",
    "def extract_BoW_features(words_train, words_test, vocabulary_size=5000,\n",
    "                         cache_dir=cache_dir, cache_file=\"bow_features.pkl\"):\n",
    "    \"\"\"Extract Bag-of-Words for a given set of documents, already preprocessed into words.\"\"\"\n",
    "    \n",
    "    # If cache_file is not None, try to read from it first\n",
    "    cache_data = None\n",
    "    if cache_file is not None:\n",
    "        try:\n",
    "            with open(os.path.join(cache_dir, cache_file), \"rb\") as f:\n",
    "                cache_data = joblib.load(f)\n",
    "            print(\"Read features from cache file:\", cache_file)\n",
    "        except:\n",
    "            pass  # unable to read from cache, but that's okay\n",
    "    \n",
    "    # If cache is missing, then do the heavy lifting\n",
    "    if cache_data is None:\n",
    "        # Fit a vectorizer to training documents and use it to transform them\n",
    "        # NOTE: Training documents have already been preprocessed and tokenized into words;\n",
    "        #       pass in dummy functions to skip those steps, e.g. preprocessor=lambda x: x\n",
    "        vectorizer = CountVectorizer(max_features=vocabulary_size,\n",
    "                preprocessor=lambda x: x, tokenizer=lambda x: x)  # already preprocessed\n",
    "        features_train = vectorizer.fit_transform(words_train).toarray()\n",
    "\n",
    "        # Apply the same vectorizer to transform the test documents (ignore unknown words)\n",
    "        features_test = vectorizer.transform(words_test).toarray()\n",
    "        \n",
    "        # NOTE: Remember to convert the features using .toarray() for a compact representation\n",
    "        \n",
    "        # Write to cache file for future runs (store vocabulary as well)\n",
    "        if cache_file is not None:\n",
    "            vocabulary = vectorizer.vocabulary_\n",
    "            cache_data = dict(features_train=features_train, features_test=features_test,\n",
    "                             vocabulary=vocabulary)\n",
    "            with open(os.path.join(cache_dir, cache_file), \"wb\") as f:\n",
    "                joblib.dump(cache_data, f)\n",
    "            print(\"Wrote features to cache file:\", cache_file)\n",
    "    else:\n",
    "        # Unpack data loaded from cache file\n",
    "        features_train, features_test, vocabulary = (cache_data['features_train'],\n",
    "                cache_data['features_test'], cache_data['vocabulary'])\n",
    "    \n",
    "    # Return both the extracted features as well as the vocabulary\n",
    "    return features_train, features_test, vocabulary"
   ]
  },
  {
   "cell_type": "code",
   "execution_count": 46,
   "metadata": {},
   "outputs": [
    {
     "name": "stdout",
     "output_type": "stream",
     "text": [
      "Read features from cache file: bow_features.pkl\n"
     ]
    }
   ],
   "source": [
    "# Extract Bag of Words features for both training and test datasets\n",
    "train_X, test_X, vocabulary = extract_BoW_features(train_X, test_X)"
   ]
  },
  {
   "cell_type": "markdown",
   "metadata": {},
   "source": [
    "## Step 4: Classification using XGBoost\n",
    "\n",
    "Now that we have created the feature representation of our training (and testing) data, it is time to start setting up and using the XGBoost classifier provided by SageMaker.\n",
    "\n",
    "### Writing the dataset\n",
    "\n",
    "The XGBoost classifier that we will be using requires the dataset to be written to a file and stored using Amazon S3. To do this, we will start by splitting the training dataset into two parts, the data we will train the model with and a validation set. Then, we will write those datasets to a file and upload the files to S3. In addition, we will write the test set input to a file and upload the file to S3. This is so that we can use SageMakers Batch Transform functionality to test our model once we've fit it."
   ]
  },
  {
   "cell_type": "code",
   "execution_count": 35,
   "metadata": {},
   "outputs": [],
   "source": [
    "import pandas as pd\n",
    "\n",
    "train_X = pd.DataFrame(train_X[10000:])\n",
    "train_y = pd.DataFrame(train_y[10000:])\n",
    "\n",
    "val_X = pd.DataFrame(train_X[:10000])\n",
    "val_y = pd.DataFrame(train_y[:10000])\n",
    "\n",
    "test_y = pd.DataFrame(test_y)\n",
    "test_X = pd.DataFrame(test_X)"
   ]
  },
  {
   "cell_type": "code",
   "execution_count": 42,
   "metadata": {},
   "outputs": [],
   "source": [
    "train_X = train_y = val_X = val_y = test_y = test_X = None"
   ]
  },
  {
   "cell_type": "markdown",
   "metadata": {},
   "source": [
    "The documentation for the XGBoost algorithm in SageMaker requires that the saved datasets should contain no headers or index and that for the training and validation data, the label should occur first for each sample.\n",
    "\n",
    "For more information about this and other algorithms, the SageMaker developer documentation can be found on __[Amazon's website.](https://docs.aws.amazon.com/sagemaker/latest/dg/)__"
   ]
  },
  {
   "cell_type": "code",
   "execution_count": 39,
   "metadata": {},
   "outputs": [],
   "source": [
    "# First we make sure that the local directory in which we'd like to store the training and validation csv files exists.\n",
    "data_dir = '../data/xgboost'\n",
    "if not os.path.exists(data_dir):\n",
    "    os.makedirs(data_dir)"
   ]
  },
  {
   "cell_type": "code",
   "execution_count": 41,
   "metadata": {},
   "outputs": [],
   "source": [
    "# First, save the test data to test.csv in the data_dir directory. Note that we do not save the associated ground truth\n",
    "# labels, instead we will use them later to compare with our model output.\n",
    "\n",
    "# pd.concat([test_y, test_X], axis=1).to_csv(os.path.join(data_dir, 'test.csv'), header=False, index=False)\n",
    "# pd.concat([val_y, val_X], axis=1).to_csv(os.path.join(data_dir, 'validation.csv'), header=False, index=False)\n",
    "# pd.concat([train_y, train_X], axis=1).to_csv(os.path.join(data_dir, 'train.csv'), header=False, index=False)"
   ]
  },
  {
   "cell_type": "code",
   "execution_count": null,
   "metadata": {},
   "outputs": [],
   "source": []
  },
  {
   "cell_type": "code",
   "execution_count": 47,
   "metadata": {},
   "outputs": [],
   "source": [
    "train_X = pd.DataFrame(train_X[10000:])\n",
    "train_y = pd.DataFrame(train_y[10000:])\n",
    "val_X = pd.DataFrame(train_X[:10000])\n",
    "val_y = pd.DataFrame(train_y[:10000])\n",
    "\n",
    "pd.concat([train_y, train_X], axis=1).to_csv(os.path.join(data_dir, 'train.csv'), header=False, index=False)\n",
    "pd.concat([val_y, val_X], axis=1).to_csv(os.path.join(data_dir, 'validation.csv'), header=False, index=False)\n",
    "\n",
    "train_X = train_y = None\n",
    "val_X = val_y = None"
   ]
  },
  {
   "cell_type": "code",
   "execution_count": 84,
   "metadata": {},
   "outputs": [],
   "source": [
    "test_y = pd.DataFrame(test_y)\n",
    "test_X = pd.DataFrame(test_X)\n",
    "\n",
    "#pd.concat([test_y, test_X], axis=1).to_csv(os.path.join(data_dir, 'test.csv'), header=False, index=False)\n",
    "test_X.to_csv(os.path.join(data_dir, 'test.csv'), header=False, index=False)\n",
    "\n",
    "# test_y = test_X = None"
   ]
  },
  {
   "cell_type": "code",
   "execution_count": 85,
   "metadata": {},
   "outputs": [
    {
     "data": {
      "text/plain": [
       "(25000, 5000)"
      ]
     },
     "execution_count": 85,
     "metadata": {},
     "output_type": "execute_result"
    }
   ],
   "source": [
    "test_X.shape"
   ]
  },
  {
   "cell_type": "code",
   "execution_count": 86,
   "metadata": {},
   "outputs": [],
   "source": []
  },
  {
   "cell_type": "code",
   "execution_count": null,
   "metadata": {},
   "outputs": [],
   "source": [
    "# To save a bit of memory we can set text_X, train_X, val_X, train_y and val_y to None.\n",
    "\n",
    "# train_X = val_X = train_y = val_y = None"
   ]
  },
  {
   "cell_type": "markdown",
   "metadata": {},
   "source": [
    "### Uploading Training / Validation files to S3\n",
    "\n",
    "Amazon's S3 service allows us to store files that can be access by both the built-in training models such as the XGBoost model we will be using as well as custom models such as the one we will see a little later.\n",
    "\n",
    "For this, and most other tasks we will be doing using SageMaker, there are two methods we could use. The first is to use the low level functionality of SageMaker which requires knowing each of the objects involved in the SageMaker environment. The second is to use the high level functionality in which certain choices have been made on the user's behalf. The low level approach benefits from allowing the user a great deal of flexibility while the high level approach makes development much quicker. For our purposes we will opt to use the high level approach although using the low-level approach is certainly an option.\n",
    "\n",
    "Recall the method `upload_data()` which is a member of object representing our current SageMaker session. What this method does is upload the data to the default bucket (which is created if it does not exist) into the path described by the key_prefix variable. To see this for yourself, once you have uploaded the data files, go to the S3 console and look to see where the files have been uploaded.\n",
    "\n",
    "For additional resources, see the __[SageMaker API documentation](http://sagemaker.readthedocs.io/en/latest/)__ and in addition the __[SageMaker Developer Guide.](https://docs.aws.amazon.com/sagemaker/latest/dg/)__"
   ]
  },
  {
   "cell_type": "code",
   "execution_count": 49,
   "metadata": {},
   "outputs": [],
   "source": [
    "import sagemaker\n",
    "\n",
    "session = sagemaker.Session() # Store the current SageMaker session\n",
    "\n",
    "# S3 prefix (which folder will we use)\n",
    "prefix = 'sentiment-xgboost'\n",
    "\n",
    "test_location = session.upload_data(os.path.join(data_dir, 'test.csv'), key_prefix=prefix)\n",
    "val_location = session.upload_data(os.path.join(data_dir, 'validation.csv'), key_prefix=prefix)\n",
    "train_location = session.upload_data(os.path.join(data_dir, 'train.csv'), key_prefix=prefix)"
   ]
  },
  {
   "cell_type": "code",
   "execution_count": null,
   "metadata": {},
   "outputs": [],
   "source": [
    "# test_location = session.upload_data(os.path.join(data_dir, 'test.csv'), key_prefix=prefix)"
   ]
  },
  {
   "cell_type": "markdown",
   "metadata": {},
   "source": [
    "### (TODO) Creating a hypertuned XGBoost model\n",
    "\n",
    "Now that the data has been uploaded it is time to create the XGBoost model. As in the Boston Housing notebook, the first step is to create an estimator object which will be used as the *base* of your hyperparameter tuning job."
   ]
  },
  {
   "cell_type": "code",
   "execution_count": 50,
   "metadata": {},
   "outputs": [],
   "source": [
    "from sagemaker import get_execution_role\n",
    "\n",
    "# Our current execution role is require when creating the model as the training\n",
    "# and inference code will need to access the model artifacts.\n",
    "role = get_execution_role()"
   ]
  },
  {
   "cell_type": "code",
   "execution_count": 51,
   "metadata": {},
   "outputs": [
    {
     "name": "stderr",
     "output_type": "stream",
     "text": [
      "'get_image_uri' method will be deprecated in favor of 'ImageURIProvider' class in SageMaker Python SDK v2.\n",
      "There is a more up to date SageMaker XGBoost image. To use the newer image, please set 'repo_version'='1.0-1'. For example:\n",
      "\tget_image_uri(region, 'xgboost', '1.0-1').\n"
     ]
    }
   ],
   "source": [
    "# We need to retrieve the location of the container which is provided by Amazon for using XGBoost.\n",
    "# As a matter of convenience, the training and inference code both use the same container.\n",
    "from sagemaker.amazon.amazon_estimator import get_image_uri\n",
    "\n",
    "container = get_image_uri(session.boto_region_name, 'xgboost')"
   ]
  },
  {
   "cell_type": "code",
   "execution_count": 52,
   "metadata": {},
   "outputs": [
    {
     "name": "stderr",
     "output_type": "stream",
     "text": [
      "Parameter image_name will be renamed to image_uri in SageMaker Python SDK v2.\n"
     ]
    }
   ],
   "source": [
    "# TODO: Create a SageMaker estimator using the container location determined in the previous cell.\n",
    "#       It is recommended that you use a single training instance of type ml.m4.xlarge. It is also\n",
    "#       recommended that you use 's3://{}/{}/output'.format(session.default_bucket(), prefix) as the\n",
    "#       output path.\n",
    "\n",
    "xgb = sagemaker.estimator.Estimator(container, # The name of the training container\n",
    "                                    role,      # The IAM role to use (our current role in this case)\n",
    "                                    train_instance_count=1, # The number of instances to use for training\n",
    "                                    train_instance_type='ml.m4.xlarge', # The type of instance ot use for training\n",
    "                                    output_path='s3://{}/{}/output'.format(session.default_bucket(), prefix),\n",
    "                                    sagemaker_session=session)\n",
    "\n",
    "# TODO: Set the XGBoost hyperparameters in the xgb object. Don't forget that in this case we have a binary\n",
    "#       label so we should be using the 'binary:logistic' objective.\n",
    "xgb.set_hyperparameters(max_depth=5,\n",
    "                        eta=0.2,\n",
    "                        gamma=4,\n",
    "                        min_child_weight=6,\n",
    "                        subsample=0.8,\n",
    "                        objective='binary:logistic',\n",
    "                        early_stopping_rounds=10,\n",
    "                        num_round=200)\n"
   ]
  },
  {
   "cell_type": "markdown",
   "metadata": {},
   "source": [
    "### (TODO) Create the hyperparameter tuner\n",
    "\n",
    "Now that the base estimator has been set up we need to construct a hyperparameter tuner object which we will use to request SageMaker construct a hyperparameter tuning job.\n",
    "\n",
    "**Note:** Training a single sentiment analysis XGBoost model takes longer than training a Boston Housing XGBoost model so if you don't want the hyperparameter tuning job to take too long, make sure to not set the total number of models (jobs) too high."
   ]
  },
  {
   "cell_type": "code",
   "execution_count": 66,
   "metadata": {},
   "outputs": [],
   "source": [
    "# First, make sure to import the relevant objects used to construct the tuner\n",
    "from sagemaker.tuner import IntegerParameter, ContinuousParameter, HyperparameterTuner\n",
    "\n",
    "# TODO: Create the hyperparameter tuner object\n",
    "xgb_hyperparameter_tuner = HyperparameterTuner(estimator = xgb, # The estimator object to use as the basis for the training jobs.\n",
    "                                               objective_metric_name = 'validation:error', # The metric used to compare trained models.\n",
    "                                               objective_type = 'Minimize', # Whether we wish to minimize or maximize the metric.\n",
    "                                               max_jobs = 10, # The total number of models to train\n",
    "                                               max_parallel_jobs = 3, # The number of models to train in parallel\n",
    "                                               hyperparameter_ranges = {\n",
    "                                                    'max_depth': IntegerParameter(3, 12),\n",
    "                                                    'eta'      : ContinuousParameter(0.05, 0.5),\n",
    "                                                    'min_child_weight': IntegerParameter(2, 8),\n",
    "                                                    'subsample': ContinuousParameter(0.5, 0.9),\n",
    "                                                    'gamma': ContinuousParameter(0, 10),\n",
    "                                               })"
   ]
  },
  {
   "cell_type": "code",
   "execution_count": 67,
   "metadata": {},
   "outputs": [
    {
     "data": {
      "text/plain": [
       "'1.72.0'"
      ]
     },
     "execution_count": 67,
     "metadata": {},
     "output_type": "execute_result"
    }
   ],
   "source": [
    "sagemaker.__version__"
   ]
  },
  {
   "cell_type": "markdown",
   "metadata": {},
   "source": [
    "### Fit the hyperparameter tuner\n",
    "\n",
    "Now that the hyperparameter tuner object has been constructed, it is time to fit the various models and find the best performing model."
   ]
  },
  {
   "cell_type": "code",
   "execution_count": 68,
   "metadata": {},
   "outputs": [
    {
     "name": "stderr",
     "output_type": "stream",
     "text": [
      "'s3_input' class will be renamed to 'TrainingInput' in SageMaker Python SDK v2.\n",
      "'s3_input' class will be renamed to 'TrainingInput' in SageMaker Python SDK v2.\n"
     ]
    }
   ],
   "source": [
    "s3_input_train = sagemaker.s3_input(s3_data=train_location, content_type='csv')\n",
    "s3_input_validation = sagemaker.s3_input(s3_data=val_location, content_type='csv')"
   ]
  },
  {
   "cell_type": "code",
   "execution_count": 69,
   "metadata": {},
   "outputs": [],
   "source": [
    "xgb_hyperparameter_tuner.fit({'train': s3_input_train, 'validation': s3_input_validation})"
   ]
  },
  {
   "cell_type": "markdown",
   "metadata": {},
   "source": [
    "Remember that the tuning job is constructed and run in the background so if we want to see the progress of our training job we need to call the `wait()` method."
   ]
  },
  {
   "cell_type": "code",
   "execution_count": 70,
   "metadata": {},
   "outputs": [
    {
     "name": "stdout",
     "output_type": "stream",
     "text": [
      "............................................................................................................................................................................................................................................................................................................................................................................................................................................................................................................................................................................................!\n"
     ]
    }
   ],
   "source": [
    "xgb_hyperparameter_tuner.wait()"
   ]
  },
  {
   "cell_type": "markdown",
   "metadata": {},
   "source": [
    "### (TODO) Testing the model\n",
    "\n",
    "Now that we've run our hyperparameter tuning job, it's time to see how well the best performing model actually performs. To do this we will use SageMaker's Batch Transform functionality. Batch Transform is a convenient way to perform inference on a large dataset in a way that is not realtime. That is, we don't necessarily need to use our model's results immediately and instead we can peform inference on a large number of samples. An example of this in industry might be peforming an end of month report. This method of inference can also be useful to us as it means to can perform inference on our entire test set. \n",
    "\n",
    "Remember that in order to create a transformer object to perform the batch transform job, we need a trained estimator object. We can do that using the `attach()` method, creating an estimator object which is attached to the best trained job."
   ]
  },
  {
   "cell_type": "code",
   "execution_count": 71,
   "metadata": {},
   "outputs": [
    {
     "data": {
      "text/plain": [
       "'xgboost-210623-1037-010-cab00c59'"
      ]
     },
     "execution_count": 71,
     "metadata": {},
     "output_type": "execute_result"
    }
   ],
   "source": [
    "xgb_hyperparameter_tuner.best_training_job()"
   ]
  },
  {
   "cell_type": "code",
   "execution_count": 77,
   "metadata": {},
   "outputs": [
    {
     "name": "stderr",
     "output_type": "stream",
     "text": [
      "Parameter image_name will be renamed to image_uri in SageMaker Python SDK v2.\n"
     ]
    },
    {
     "name": "stdout",
     "output_type": "stream",
     "text": [
      "2021-06-23 11:22:40 Starting - Preparing the instances for training\n",
      "2021-06-23 11:22:40 Downloading - Downloading input data\n",
      "2021-06-23 11:22:40 Training - Training image download completed. Training in progress.\n",
      "2021-06-23 11:22:40 Uploading - Uploading generated training model\n",
      "2021-06-23 11:22:40 Completed - Training job completed\u001b[34mArguments: train\u001b[0m\n",
      "\u001b[34m[2021-06-23:11:10:59:INFO] Running standalone xgboost training.\u001b[0m\n",
      "\u001b[34m[2021-06-23:11:10:59:INFO] Setting up HPO optimized metric to be : error\u001b[0m\n",
      "\u001b[34m[2021-06-23:11:10:59:INFO] File size need to be processed in the node: 238.47mb. Available memory size in the node: 8399.38mb\u001b[0m\n",
      "\u001b[34m[2021-06-23:11:10:59:INFO] Determined delimiter of CSV input is ','\u001b[0m\n",
      "\u001b[34m[11:10:59] S3DistributionType set as FullyReplicated\u001b[0m\n",
      "\u001b[34m[11:11:01] 15000x5000 matrix with 75000000 entries loaded from /opt/ml/input/data/train?format=csv&label_column=0&delimiter=,\u001b[0m\n",
      "\u001b[34m[2021-06-23:11:11:01:INFO] Determined delimiter of CSV input is ','\u001b[0m\n",
      "\u001b[34m[11:11:01] S3DistributionType set as FullyReplicated\u001b[0m\n",
      "\u001b[34m[11:11:03] 10000x5000 matrix with 50000000 entries loaded from /opt/ml/input/data/validation?format=csv&label_column=0&delimiter=,\u001b[0m\n",
      "\u001b[34m[11:11:09] src/tree/updater_prune.cc:74: tree pruning end, 1 roots, 344 extra nodes, 6 pruned nodes, max_depth=12\u001b[0m\n",
      "\u001b[34m[0]#011train-error:0.229067#011validation-error:0.226\u001b[0m\n",
      "\u001b[34mMultiple eval metrics have been passed: 'validation-error' will be used for early stopping.\n",
      "\u001b[0m\n",
      "\u001b[34mWill train until validation-error hasn't improved in 10 rounds.\u001b[0m\n",
      "\u001b[34m[11:11:12] src/tree/updater_prune.cc:74: tree pruning end, 1 roots, 368 extra nodes, 18 pruned nodes, max_depth=12\u001b[0m\n",
      "\u001b[34m[1]#011train-error:0.213867#011validation-error:0.2105\u001b[0m\n",
      "\u001b[34m[11:11:16] src/tree/updater_prune.cc:74: tree pruning end, 1 roots, 346 extra nodes, 4 pruned nodes, max_depth=12\u001b[0m\n",
      "\u001b[34m[2]#011train-error:0.198533#011validation-error:0.1973\u001b[0m\n",
      "\u001b[34m[11:11:20] src/tree/updater_prune.cc:74: tree pruning end, 1 roots, 320 extra nodes, 10 pruned nodes, max_depth=12\u001b[0m\n",
      "\u001b[34m[3]#011train-error:0.195533#011validation-error:0.1945\u001b[0m\n",
      "\u001b[34m[11:11:23] src/tree/updater_prune.cc:74: tree pruning end, 1 roots, 390 extra nodes, 14 pruned nodes, max_depth=12\u001b[0m\n",
      "\u001b[34m[4]#011train-error:0.1866#011validation-error:0.1857\u001b[0m\n",
      "\u001b[34m[11:11:26] src/tree/updater_prune.cc:74: tree pruning end, 1 roots, 242 extra nodes, 6 pruned nodes, max_depth=12\u001b[0m\n",
      "\u001b[34m[5]#011train-error:0.184267#011validation-error:0.1829\u001b[0m\n",
      "\u001b[34m[11:11:30] src/tree/updater_prune.cc:74: tree pruning end, 1 roots, 402 extra nodes, 4 pruned nodes, max_depth=12\u001b[0m\n",
      "\u001b[34m[6]#011train-error:0.172067#011validation-error:0.1697\u001b[0m\n",
      "\u001b[34m[11:11:33] src/tree/updater_prune.cc:74: tree pruning end, 1 roots, 232 extra nodes, 4 pruned nodes, max_depth=12\u001b[0m\n",
      "\u001b[34m[7]#011train-error:0.166333#011validation-error:0.1644\u001b[0m\n",
      "\u001b[34m[11:11:37] src/tree/updater_prune.cc:74: tree pruning end, 1 roots, 360 extra nodes, 6 pruned nodes, max_depth=12\u001b[0m\n",
      "\u001b[34m[8]#011train-error:0.160933#011validation-error:0.1586\u001b[0m\n",
      "\u001b[34m[11:11:40] src/tree/updater_prune.cc:74: tree pruning end, 1 roots, 238 extra nodes, 2 pruned nodes, max_depth=12\u001b[0m\n",
      "\u001b[34m[9]#011train-error:0.155733#011validation-error:0.155\u001b[0m\n",
      "\u001b[34m[11:11:43] src/tree/updater_prune.cc:74: tree pruning end, 1 roots, 216 extra nodes, 2 pruned nodes, max_depth=12\u001b[0m\n",
      "\u001b[34m[10]#011train-error:0.151467#011validation-error:0.149\u001b[0m\n",
      "\u001b[34m[11:11:47] src/tree/updater_prune.cc:74: tree pruning end, 1 roots, 238 extra nodes, 6 pruned nodes, max_depth=12\u001b[0m\n",
      "\u001b[34m[11]#011train-error:0.146467#011validation-error:0.1446\u001b[0m\n",
      "\u001b[34m[11:11:50] src/tree/updater_prune.cc:74: tree pruning end, 1 roots, 356 extra nodes, 18 pruned nodes, max_depth=12\u001b[0m\n",
      "\u001b[34m[12]#011train-error:0.1392#011validation-error:0.1366\u001b[0m\n",
      "\u001b[34m[11:11:54] src/tree/updater_prune.cc:74: tree pruning end, 1 roots, 322 extra nodes, 8 pruned nodes, max_depth=12\u001b[0m\n",
      "\u001b[34m[13]#011train-error:0.132467#011validation-error:0.1313\u001b[0m\n",
      "\u001b[34m[11:11:57] src/tree/updater_prune.cc:74: tree pruning end, 1 roots, 216 extra nodes, 2 pruned nodes, max_depth=12\u001b[0m\n",
      "\u001b[34m[14]#011train-error:0.127933#011validation-error:0.1279\u001b[0m\n",
      "\u001b[34m[11:12:00] src/tree/updater_prune.cc:74: tree pruning end, 1 roots, 228 extra nodes, 6 pruned nodes, max_depth=12\u001b[0m\n",
      "\u001b[34m[15]#011train-error:0.125467#011validation-error:0.1231\u001b[0m\n",
      "\u001b[34m[11:12:04] src/tree/updater_prune.cc:74: tree pruning end, 1 roots, 174 extra nodes, 6 pruned nodes, max_depth=12\u001b[0m\n",
      "\u001b[34m[16]#011train-error:0.122333#011validation-error:0.1199\u001b[0m\n",
      "\u001b[34m[11:12:08] src/tree/updater_prune.cc:74: tree pruning end, 1 roots, 206 extra nodes, 8 pruned nodes, max_depth=12\u001b[0m\n",
      "\u001b[34m[17]#011train-error:0.1174#011validation-error:0.115\u001b[0m\n",
      "\u001b[34m[11:12:11] src/tree/updater_prune.cc:74: tree pruning end, 1 roots, 204 extra nodes, 10 pruned nodes, max_depth=12\u001b[0m\n",
      "\u001b[34m[18]#011train-error:0.1152#011validation-error:0.1125\u001b[0m\n",
      "\u001b[34m[11:12:14] src/tree/updater_prune.cc:74: tree pruning end, 1 roots, 256 extra nodes, 4 pruned nodes, max_depth=12\u001b[0m\n",
      "\u001b[34m[19]#011train-error:0.113733#011validation-error:0.1125\u001b[0m\n",
      "\u001b[34m[11:12:18] src/tree/updater_prune.cc:74: tree pruning end, 1 roots, 294 extra nodes, 14 pruned nodes, max_depth=12\u001b[0m\n",
      "\u001b[34m[20]#011train-error:0.108867#011validation-error:0.1071\u001b[0m\n",
      "\u001b[34m[11:12:21] src/tree/updater_prune.cc:74: tree pruning end, 1 roots, 296 extra nodes, 12 pruned nodes, max_depth=12\u001b[0m\n",
      "\u001b[34m[21]#011train-error:0.105533#011validation-error:0.1037\u001b[0m\n",
      "\u001b[34m[11:12:25] src/tree/updater_prune.cc:74: tree pruning end, 1 roots, 182 extra nodes, 20 pruned nodes, max_depth=12\u001b[0m\n",
      "\u001b[34m[22]#011train-error:0.104067#011validation-error:0.1027\u001b[0m\n",
      "\u001b[34m[11:12:28] src/tree/updater_prune.cc:74: tree pruning end, 1 roots, 182 extra nodes, 2 pruned nodes, max_depth=12\u001b[0m\n",
      "\u001b[34m[23]#011train-error:0.1014#011validation-error:0.1002\u001b[0m\n",
      "\u001b[34m[11:12:31] src/tree/updater_prune.cc:74: tree pruning end, 1 roots, 204 extra nodes, 10 pruned nodes, max_depth=12\u001b[0m\n",
      "\u001b[34m[24]#011train-error:0.099533#011validation-error:0.0975\u001b[0m\n",
      "\u001b[34m[11:12:35] src/tree/updater_prune.cc:74: tree pruning end, 1 roots, 248 extra nodes, 10 pruned nodes, max_depth=12\u001b[0m\n",
      "\u001b[34m[25]#011train-error:0.096133#011validation-error:0.0946\u001b[0m\n",
      "\u001b[34m[11:12:38] src/tree/updater_prune.cc:74: tree pruning end, 1 roots, 166 extra nodes, 4 pruned nodes, max_depth=12\u001b[0m\n",
      "\u001b[34m[26]#011train-error:0.094733#011validation-error:0.0932\u001b[0m\n",
      "\u001b[34m[11:12:42] src/tree/updater_prune.cc:74: tree pruning end, 1 roots, 200 extra nodes, 10 pruned nodes, max_depth=12\u001b[0m\n",
      "\u001b[34m[27]#011train-error:0.0938#011validation-error:0.0915\u001b[0m\n",
      "\u001b[34m[11:12:45] src/tree/updater_prune.cc:74: tree pruning end, 1 roots, 240 extra nodes, 20 pruned nodes, max_depth=12\u001b[0m\n",
      "\u001b[34m[28]#011train-error:0.091133#011validation-error:0.0885\u001b[0m\n",
      "\u001b[34m[11:12:48] src/tree/updater_prune.cc:74: tree pruning end, 1 roots, 268 extra nodes, 12 pruned nodes, max_depth=12\u001b[0m\n",
      "\u001b[34m[29]#011train-error:0.0882#011validation-error:0.0859\u001b[0m\n",
      "\u001b[34m[11:12:52] src/tree/updater_prune.cc:74: tree pruning end, 1 roots, 132 extra nodes, 6 pruned nodes, max_depth=12\u001b[0m\n",
      "\u001b[34m[30]#011train-error:0.087267#011validation-error:0.0851\u001b[0m\n",
      "\u001b[34m[11:12:55] src/tree/updater_prune.cc:74: tree pruning end, 1 roots, 170 extra nodes, 12 pruned nodes, max_depth=12\u001b[0m\n",
      "\u001b[34m[31]#011train-error:0.085933#011validation-error:0.0853\u001b[0m\n",
      "\u001b[34m[11:12:58] src/tree/updater_prune.cc:74: tree pruning end, 1 roots, 174 extra nodes, 4 pruned nodes, max_depth=12\u001b[0m\n",
      "\u001b[34m[32]#011train-error:0.085133#011validation-error:0.0842\u001b[0m\n",
      "\u001b[34m[11:13:02] src/tree/updater_prune.cc:74: tree pruning end, 1 roots, 154 extra nodes, 6 pruned nodes, max_depth=12\u001b[0m\n",
      "\u001b[34m[33]#011train-error:0.0834#011validation-error:0.0823\u001b[0m\n",
      "\u001b[34m[11:13:06] src/tree/updater_prune.cc:74: tree pruning end, 1 roots, 152 extra nodes, 8 pruned nodes, max_depth=12\u001b[0m\n",
      "\u001b[34m[34]#011train-error:0.0822#011validation-error:0.0812\u001b[0m\n",
      "\u001b[34m[11:13:09] src/tree/updater_prune.cc:74: tree pruning end, 1 roots, 148 extra nodes, 6 pruned nodes, max_depth=12\u001b[0m\n",
      "\u001b[34m[35]#011train-error:0.081267#011validation-error:0.0803\u001b[0m\n",
      "\u001b[34m[11:13:13] src/tree/updater_prune.cc:74: tree pruning end, 1 roots, 182 extra nodes, 10 pruned nodes, max_depth=12\u001b[0m\n",
      "\u001b[34m[36]#011train-error:0.079667#011validation-error:0.0787\u001b[0m\n",
      "\u001b[34m[11:13:16] src/tree/updater_prune.cc:74: tree pruning end, 1 roots, 292 extra nodes, 16 pruned nodes, max_depth=12\u001b[0m\n",
      "\u001b[34m[37]#011train-error:0.077667#011validation-error:0.0767\u001b[0m\n",
      "\u001b[34m[11:13:19] src/tree/updater_prune.cc:74: tree pruning end, 1 roots, 136 extra nodes, 8 pruned nodes, max_depth=12\u001b[0m\n",
      "\u001b[34m[38]#011train-error:0.0762#011validation-error:0.0758\u001b[0m\n",
      "\u001b[34m[11:13:23] src/tree/updater_prune.cc:74: tree pruning end, 1 roots, 152 extra nodes, 8 pruned nodes, max_depth=12\u001b[0m\n",
      "\u001b[34m[39]#011train-error:0.075067#011validation-error:0.0746\u001b[0m\n",
      "\u001b[34m[11:13:26] src/tree/updater_prune.cc:74: tree pruning end, 1 roots, 160 extra nodes, 6 pruned nodes, max_depth=12\u001b[0m\n",
      "\u001b[34m[40]#011train-error:0.0736#011validation-error:0.0733\u001b[0m\n",
      "\u001b[34m[11:13:30] src/tree/updater_prune.cc:74: tree pruning end, 1 roots, 230 extra nodes, 8 pruned nodes, max_depth=12\u001b[0m\n",
      "\u001b[34m[41]#011train-error:0.0724#011validation-error:0.0724\u001b[0m\n",
      "\u001b[34m[11:13:33] src/tree/updater_prune.cc:74: tree pruning end, 1 roots, 152 extra nodes, 10 pruned nodes, max_depth=12\u001b[0m\n",
      "\u001b[34m[42]#011train-error:0.07#011validation-error:0.0699\u001b[0m\n",
      "\u001b[34m[11:13:36] src/tree/updater_prune.cc:74: tree pruning end, 1 roots, 148 extra nodes, 14 pruned nodes, max_depth=12\u001b[0m\n",
      "\u001b[34m[43]#011train-error:0.0688#011validation-error:0.0688\u001b[0m\n",
      "\u001b[34m[11:13:40] src/tree/updater_prune.cc:74: tree pruning end, 1 roots, 170 extra nodes, 10 pruned nodes, max_depth=12\u001b[0m\n",
      "\u001b[34m[44]#011train-error:0.0676#011validation-error:0.0673\u001b[0m\n",
      "\u001b[34m[11:13:43] src/tree/updater_prune.cc:74: tree pruning end, 1 roots, 114 extra nodes, 12 pruned nodes, max_depth=12\u001b[0m\n",
      "\u001b[34m[45]#011train-error:0.067067#011validation-error:0.0667\u001b[0m\n",
      "\u001b[34m[11:13:46] src/tree/updater_prune.cc:74: tree pruning end, 1 roots, 162 extra nodes, 14 pruned nodes, max_depth=12\u001b[0m\n",
      "\u001b[34m[46]#011train-error:0.066667#011validation-error:0.0663\u001b[0m\n",
      "\u001b[34m[11:13:50] src/tree/updater_prune.cc:74: tree pruning end, 1 roots, 92 extra nodes, 2 pruned nodes, max_depth=12\u001b[0m\n",
      "\u001b[34m[47]#011train-error:0.0654#011validation-error:0.0653\u001b[0m\n",
      "\u001b[34m[11:13:53] src/tree/updater_prune.cc:74: tree pruning end, 1 roots, 128 extra nodes, 8 pruned nodes, max_depth=12\u001b[0m\n",
      "\u001b[34m[48]#011train-error:0.064#011validation-error:0.0634\u001b[0m\n",
      "\u001b[34m[11:13:57] src/tree/updater_prune.cc:74: tree pruning end, 1 roots, 156 extra nodes, 6 pruned nodes, max_depth=12\u001b[0m\n",
      "\u001b[34m[49]#011train-error:0.0624#011validation-error:0.0618\u001b[0m\n",
      "\u001b[34m[11:14:00] src/tree/updater_prune.cc:74: tree pruning end, 1 roots, 176 extra nodes, 16 pruned nodes, max_depth=12\u001b[0m\n",
      "\u001b[34m[50]#011train-error:0.060733#011validation-error:0.0601\u001b[0m\n",
      "\u001b[34m[11:14:04] src/tree/updater_prune.cc:74: tree pruning end, 1 roots, 124 extra nodes, 12 pruned nodes, max_depth=12\u001b[0m\n",
      "\u001b[34m[51]#011train-error:0.0602#011validation-error:0.0595\u001b[0m\n",
      "\u001b[34m[11:14:07] src/tree/updater_prune.cc:74: tree pruning end, 1 roots, 132 extra nodes, 14 pruned nodes, max_depth=12\u001b[0m\n",
      "\u001b[34m[52]#011train-error:0.0598#011validation-error:0.0592\u001b[0m\n",
      "\u001b[34m[11:14:11] src/tree/updater_prune.cc:74: tree pruning end, 1 roots, 144 extra nodes, 18 pruned nodes, max_depth=12\u001b[0m\n",
      "\u001b[34m[53]#011train-error:0.058467#011validation-error:0.0577\u001b[0m\n",
      "\u001b[34m[11:14:14] src/tree/updater_prune.cc:74: tree pruning end, 1 roots, 182 extra nodes, 8 pruned nodes, max_depth=12\u001b[0m\n",
      "\u001b[34m[54]#011train-error:0.056467#011validation-error:0.0562\u001b[0m\n",
      "\u001b[34m[11:14:18] src/tree/updater_prune.cc:74: tree pruning end, 1 roots, 116 extra nodes, 10 pruned nodes, max_depth=12\u001b[0m\n",
      "\u001b[34m[55]#011train-error:0.055733#011validation-error:0.0552\u001b[0m\n",
      "\u001b[34m[11:14:21] src/tree/updater_prune.cc:74: tree pruning end, 1 roots, 154 extra nodes, 6 pruned nodes, max_depth=12\u001b[0m\n",
      "\u001b[34m[56]#011train-error:0.055733#011validation-error:0.0551\u001b[0m\n",
      "\u001b[34m[11:14:24] src/tree/updater_prune.cc:74: tree pruning end, 1 roots, 214 extra nodes, 12 pruned nodes, max_depth=12\u001b[0m\n",
      "\u001b[34m[57]#011train-error:0.054333#011validation-error:0.0541\u001b[0m\n",
      "\u001b[34m[11:14:28] src/tree/updater_prune.cc:74: tree pruning end, 1 roots, 124 extra nodes, 2 pruned nodes, max_depth=12\u001b[0m\n",
      "\u001b[34m[58]#011train-error:0.0532#011validation-error:0.0531\u001b[0m\n",
      "\u001b[34m[11:14:31] src/tree/updater_prune.cc:74: tree pruning end, 1 roots, 138 extra nodes, 6 pruned nodes, max_depth=12\u001b[0m\n",
      "\u001b[34m[59]#011train-error:0.052533#011validation-error:0.0523\u001b[0m\n",
      "\u001b[34m[11:14:34] src/tree/updater_prune.cc:74: tree pruning end, 1 roots, 118 extra nodes, 6 pruned nodes, max_depth=12\u001b[0m\n",
      "\u001b[34m[60]#011train-error:0.0524#011validation-error:0.0519\u001b[0m\n",
      "\u001b[34m[11:14:38] src/tree/updater_prune.cc:74: tree pruning end, 1 roots, 120 extra nodes, 14 pruned nodes, max_depth=12\u001b[0m\n",
      "\u001b[34m[61]#011train-error:0.051733#011validation-error:0.051\u001b[0m\n",
      "\u001b[34m[11:14:41] src/tree/updater_prune.cc:74: tree pruning end, 1 roots, 86 extra nodes, 4 pruned nodes, max_depth=12\u001b[0m\n",
      "\u001b[34m[62]#011train-error:0.0512#011validation-error:0.0505\u001b[0m\n",
      "\u001b[34m[11:14:45] src/tree/updater_prune.cc:74: tree pruning end, 1 roots, 122 extra nodes, 12 pruned nodes, max_depth=12\u001b[0m\n",
      "\u001b[34m[63]#011train-error:0.050667#011validation-error:0.0499\u001b[0m\n",
      "\u001b[34m[11:14:48] src/tree/updater_prune.cc:74: tree pruning end, 1 roots, 90 extra nodes, 12 pruned nodes, max_depth=12\u001b[0m\n",
      "\u001b[34m[64]#011train-error:0.049733#011validation-error:0.0491\u001b[0m\n",
      "\u001b[34m[11:14:51] src/tree/updater_prune.cc:74: tree pruning end, 1 roots, 162 extra nodes, 4 pruned nodes, max_depth=12\u001b[0m\n",
      "\u001b[34m[65]#011train-error:0.048667#011validation-error:0.048\u001b[0m\n",
      "\u001b[34m[11:14:55] src/tree/updater_prune.cc:74: tree pruning end, 1 roots, 78 extra nodes, 8 pruned nodes, max_depth=12\u001b[0m\n",
      "\u001b[34m[66]#011train-error:0.047733#011validation-error:0.0468\u001b[0m\n",
      "\u001b[34m[11:14:58] src/tree/updater_prune.cc:74: tree pruning end, 1 roots, 76 extra nodes, 4 pruned nodes, max_depth=12\u001b[0m\n",
      "\u001b[34m[67]#011train-error:0.0476#011validation-error:0.0466\u001b[0m\n",
      "\u001b[34m[11:15:01] src/tree/updater_prune.cc:74: tree pruning end, 1 roots, 112 extra nodes, 10 pruned nodes, max_depth=12\u001b[0m\n",
      "\u001b[34m[68]#011train-error:0.046933#011validation-error:0.0462\u001b[0m\n",
      "\u001b[34m[11:15:05] src/tree/updater_prune.cc:74: tree pruning end, 1 roots, 60 extra nodes, 10 pruned nodes, max_depth=12\u001b[0m\n",
      "\u001b[34m[69]#011train-error:0.046333#011validation-error:0.0456\u001b[0m\n",
      "\u001b[34m[11:15:09] src/tree/updater_prune.cc:74: tree pruning end, 1 roots, 94 extra nodes, 14 pruned nodes, max_depth=12\u001b[0m\n",
      "\u001b[34m[70]#011train-error:0.045733#011validation-error:0.0449\u001b[0m\n",
      "\u001b[34m[11:15:12] src/tree/updater_prune.cc:74: tree pruning end, 1 roots, 134 extra nodes, 6 pruned nodes, max_depth=12\u001b[0m\n",
      "\u001b[34m[71]#011train-error:0.045267#011validation-error:0.0445\u001b[0m\n",
      "\u001b[34m[11:15:15] src/tree/updater_prune.cc:74: tree pruning end, 1 roots, 140 extra nodes, 16 pruned nodes, max_depth=12\u001b[0m\n",
      "\u001b[34m[72]#011train-error:0.043933#011validation-error:0.043\u001b[0m\n",
      "\u001b[34m[11:15:19] src/tree/updater_prune.cc:74: tree pruning end, 1 roots, 120 extra nodes, 8 pruned nodes, max_depth=12\u001b[0m\n",
      "\u001b[34m[73]#011train-error:0.043#011validation-error:0.0417\u001b[0m\n",
      "\u001b[34m[11:15:22] src/tree/updater_prune.cc:74: tree pruning end, 1 roots, 100 extra nodes, 8 pruned nodes, max_depth=12\u001b[0m\n",
      "\u001b[34m[74]#011train-error:0.043067#011validation-error:0.0421\u001b[0m\n",
      "\u001b[34m[11:15:25] src/tree/updater_prune.cc:74: tree pruning end, 1 roots, 156 extra nodes, 20 pruned nodes, max_depth=12\u001b[0m\n",
      "\u001b[34m[75]#011train-error:0.042667#011validation-error:0.0419\u001b[0m\n",
      "\u001b[34m[11:15:29] src/tree/updater_prune.cc:74: tree pruning end, 1 roots, 184 extra nodes, 12 pruned nodes, max_depth=12\u001b[0m\n",
      "\u001b[34m[76]#011train-error:0.041733#011validation-error:0.0408\u001b[0m\n",
      "\u001b[34m[11:15:32] src/tree/updater_prune.cc:74: tree pruning end, 1 roots, 112 extra nodes, 6 pruned nodes, max_depth=12\u001b[0m\n",
      "\u001b[34m[77]#011train-error:0.0404#011validation-error:0.0394\u001b[0m\n",
      "\u001b[34m[11:15:35] src/tree/updater_prune.cc:74: tree pruning end, 1 roots, 158 extra nodes, 12 pruned nodes, max_depth=12\u001b[0m\n",
      "\u001b[34m[78]#011train-error:0.0398#011validation-error:0.0385\u001b[0m\n",
      "\u001b[34m[11:15:39] src/tree/updater_prune.cc:74: tree pruning end, 1 roots, 100 extra nodes, 10 pruned nodes, max_depth=12\u001b[0m\n",
      "\u001b[34m[79]#011train-error:0.040067#011validation-error:0.0392\u001b[0m\n",
      "\u001b[34m[11:15:42] src/tree/updater_prune.cc:74: tree pruning end, 1 roots, 120 extra nodes, 20 pruned nodes, max_depth=12\u001b[0m\n",
      "\u001b[34m[80]#011train-error:0.039333#011validation-error:0.0381\u001b[0m\n",
      "\u001b[34m[11:15:45] src/tree/updater_prune.cc:74: tree pruning end, 1 roots, 98 extra nodes, 6 pruned nodes, max_depth=12\u001b[0m\n",
      "\u001b[34m[81]#011train-error:0.038867#011validation-error:0.0374\u001b[0m\n",
      "\u001b[34m[11:15:49] src/tree/updater_prune.cc:74: tree pruning end, 1 roots, 82 extra nodes, 6 pruned nodes, max_depth=12\u001b[0m\n",
      "\u001b[34m[82]#011train-error:0.0384#011validation-error:0.0369\u001b[0m\n",
      "\u001b[34m[11:15:52] src/tree/updater_prune.cc:74: tree pruning end, 1 roots, 102 extra nodes, 10 pruned nodes, max_depth=12\u001b[0m\n",
      "\u001b[34m[83]#011train-error:0.0378#011validation-error:0.0365\u001b[0m\n",
      "\u001b[34m[11:15:56] src/tree/updater_prune.cc:74: tree pruning end, 1 roots, 120 extra nodes, 12 pruned nodes, max_depth=12\u001b[0m\n",
      "\u001b[34m[84]#011train-error:0.0378#011validation-error:0.0368\u001b[0m\n",
      "\u001b[34m[11:15:59] src/tree/updater_prune.cc:74: tree pruning end, 1 roots, 102 extra nodes, 10 pruned nodes, max_depth=12\u001b[0m\n",
      "\u001b[34m[85]#011train-error:0.036933#011validation-error:0.0358\u001b[0m\n",
      "\u001b[34m[11:16:02] src/tree/updater_prune.cc:74: tree pruning end, 1 roots, 124 extra nodes, 14 pruned nodes, max_depth=12\u001b[0m\n",
      "\u001b[34m[86]#011train-error:0.036533#011validation-error:0.0352\u001b[0m\n",
      "\u001b[34m[11:16:06] src/tree/updater_prune.cc:74: tree pruning end, 1 roots, 74 extra nodes, 10 pruned nodes, max_depth=12\u001b[0m\n",
      "\u001b[34m[87]#011train-error:0.0362#011validation-error:0.035\u001b[0m\n",
      "\u001b[34m[11:16:10] src/tree/updater_prune.cc:74: tree pruning end, 1 roots, 64 extra nodes, 2 pruned nodes, max_depth=12\u001b[0m\n",
      "\u001b[34m[88]#011train-error:0.036067#011validation-error:0.0344\u001b[0m\n",
      "\u001b[34m[11:16:13] src/tree/updater_prune.cc:74: tree pruning end, 1 roots, 132 extra nodes, 10 pruned nodes, max_depth=12\u001b[0m\n",
      "\u001b[34m[89]#011train-error:0.0356#011validation-error:0.0342\u001b[0m\n",
      "\u001b[34m[11:16:17] src/tree/updater_prune.cc:74: tree pruning end, 1 roots, 110 extra nodes, 16 pruned nodes, max_depth=12\u001b[0m\n",
      "\u001b[34m[90]#011train-error:0.035467#011validation-error:0.0337\u001b[0m\n",
      "\u001b[34m[11:16:20] src/tree/updater_prune.cc:74: tree pruning end, 1 roots, 100 extra nodes, 16 pruned nodes, max_depth=12\u001b[0m\n",
      "\u001b[34m[91]#011train-error:0.035333#011validation-error:0.0339\u001b[0m\n",
      "\u001b[34m[11:16:23] src/tree/updater_prune.cc:74: tree pruning end, 1 roots, 120 extra nodes, 22 pruned nodes, max_depth=12\u001b[0m\n",
      "\u001b[34m[92]#011train-error:0.034533#011validation-error:0.0328\u001b[0m\n",
      "\u001b[34m[11:16:27] src/tree/updater_prune.cc:74: tree pruning end, 1 roots, 134 extra nodes, 12 pruned nodes, max_depth=12\u001b[0m\n",
      "\u001b[34m[93]#011train-error:0.034133#011validation-error:0.0322\u001b[0m\n",
      "\u001b[34m[11:16:30] src/tree/updater_prune.cc:74: tree pruning end, 1 roots, 128 extra nodes, 18 pruned nodes, max_depth=12\u001b[0m\n",
      "\u001b[34m[94]#011train-error:0.033333#011validation-error:0.0316\u001b[0m\n",
      "\u001b[34m[11:16:34] src/tree/updater_prune.cc:74: tree pruning end, 1 roots, 158 extra nodes, 4 pruned nodes, max_depth=12\u001b[0m\n",
      "\u001b[34m[95]#011train-error:0.032667#011validation-error:0.031\u001b[0m\n",
      "\u001b[34m[11:16:37] src/tree/updater_prune.cc:74: tree pruning end, 1 roots, 70 extra nodes, 20 pruned nodes, max_depth=12\u001b[0m\n",
      "\u001b[34m[96]#011train-error:0.032733#011validation-error:0.0312\u001b[0m\n",
      "\u001b[34m[11:16:40] src/tree/updater_prune.cc:74: tree pruning end, 1 roots, 72 extra nodes, 6 pruned nodes, max_depth=12\u001b[0m\n",
      "\u001b[34m[97]#011train-error:0.0324#011validation-error:0.0307\u001b[0m\n",
      "\u001b[34m[11:16:44] src/tree/updater_prune.cc:74: tree pruning end, 1 roots, 48 extra nodes, 10 pruned nodes, max_depth=12\u001b[0m\n",
      "\u001b[34m[98]#011train-error:0.0322#011validation-error:0.0308\u001b[0m\n",
      "\u001b[34m[11:16:47] src/tree/updater_prune.cc:74: tree pruning end, 1 roots, 114 extra nodes, 10 pruned nodes, max_depth=12\u001b[0m\n",
      "\u001b[34m[99]#011train-error:0.031733#011validation-error:0.0302\u001b[0m\n",
      "\u001b[34m[11:16:51] src/tree/updater_prune.cc:74: tree pruning end, 1 roots, 94 extra nodes, 6 pruned nodes, max_depth=12\u001b[0m\n",
      "\u001b[34m[100]#011train-error:0.031267#011validation-error:0.0301\u001b[0m\n",
      "\u001b[34m[11:16:54] src/tree/updater_prune.cc:74: tree pruning end, 1 roots, 62 extra nodes, 2 pruned nodes, max_depth=12\u001b[0m\n",
      "\u001b[34m[101]#011train-error:0.031267#011validation-error:0.0301\u001b[0m\n",
      "\u001b[34m[11:16:58] src/tree/updater_prune.cc:74: tree pruning end, 1 roots, 170 extra nodes, 32 pruned nodes, max_depth=12\u001b[0m\n",
      "\u001b[34m[102]#011train-error:0.030333#011validation-error:0.0288\u001b[0m\n",
      "\u001b[34m[11:17:01] src/tree/updater_prune.cc:74: tree pruning end, 1 roots, 50 extra nodes, 14 pruned nodes, max_depth=12\u001b[0m\n",
      "\u001b[34m[103]#011train-error:0.030467#011validation-error:0.0291\u001b[0m\n",
      "\u001b[34m[11:17:05] src/tree/updater_prune.cc:74: tree pruning end, 1 roots, 98 extra nodes, 10 pruned nodes, max_depth=12\u001b[0m\n",
      "\u001b[34m[104]#011train-error:0.030267#011validation-error:0.0289\u001b[0m\n",
      "\u001b[34m[11:17:08] src/tree/updater_prune.cc:74: tree pruning end, 1 roots, 74 extra nodes, 12 pruned nodes, max_depth=12\u001b[0m\n",
      "\u001b[34m[105]#011train-error:0.029933#011validation-error:0.0286\u001b[0m\n",
      "\u001b[34m[11:17:12] src/tree/updater_prune.cc:74: tree pruning end, 1 roots, 102 extra nodes, 24 pruned nodes, max_depth=12\u001b[0m\n",
      "\u001b[34m[106]#011train-error:0.029667#011validation-error:0.0283\u001b[0m\n",
      "\u001b[34m[11:17:15] src/tree/updater_prune.cc:74: tree pruning end, 1 roots, 68 extra nodes, 6 pruned nodes, max_depth=12\u001b[0m\n",
      "\u001b[34m[107]#011train-error:0.029467#011validation-error:0.028\u001b[0m\n",
      "\u001b[34m[11:17:18] src/tree/updater_prune.cc:74: tree pruning end, 1 roots, 76 extra nodes, 8 pruned nodes, max_depth=12\u001b[0m\n",
      "\u001b[34m[108]#011train-error:0.029333#011validation-error:0.0281\u001b[0m\n",
      "\u001b[34m[11:17:22] src/tree/updater_prune.cc:74: tree pruning end, 1 roots, 134 extra nodes, 12 pruned nodes, max_depth=12\u001b[0m\n",
      "\u001b[34m[109]#011train-error:0.029333#011validation-error:0.0284\u001b[0m\n",
      "\u001b[34m[11:17:25] src/tree/updater_prune.cc:74: tree pruning end, 1 roots, 66 extra nodes, 12 pruned nodes, max_depth=12\u001b[0m\n",
      "\u001b[34m[110]#011train-error:0.029#011validation-error:0.0282\u001b[0m\n",
      "\u001b[34m[11:17:29] src/tree/updater_prune.cc:74: tree pruning end, 1 roots, 122 extra nodes, 18 pruned nodes, max_depth=12\u001b[0m\n",
      "\u001b[34m[111]#011train-error:0.028667#011validation-error:0.0279\u001b[0m\n",
      "\u001b[34m[11:17:32] src/tree/updater_prune.cc:74: tree pruning end, 1 roots, 136 extra nodes, 12 pruned nodes, max_depth=12\u001b[0m\n",
      "\u001b[34m[112]#011train-error:0.027733#011validation-error:0.0268\u001b[0m\n",
      "\u001b[34m[11:17:35] src/tree/updater_prune.cc:74: tree pruning end, 1 roots, 86 extra nodes, 8 pruned nodes, max_depth=12\u001b[0m\n",
      "\u001b[34m[113]#011train-error:0.0274#011validation-error:0.0266\u001b[0m\n",
      "\u001b[34m[11:17:39] src/tree/updater_prune.cc:74: tree pruning end, 1 roots, 128 extra nodes, 6 pruned nodes, max_depth=12\u001b[0m\n",
      "\u001b[34m[114]#011train-error:0.026667#011validation-error:0.0258\u001b[0m\n",
      "\u001b[34m[11:17:42] src/tree/updater_prune.cc:74: tree pruning end, 1 roots, 110 extra nodes, 8 pruned nodes, max_depth=12\u001b[0m\n",
      "\u001b[34m[115]#011train-error:0.0264#011validation-error:0.0253\u001b[0m\n",
      "\u001b[34m[11:17:46] src/tree/updater_prune.cc:74: tree pruning end, 1 roots, 96 extra nodes, 16 pruned nodes, max_depth=12\u001b[0m\n",
      "\u001b[34m[116]#011train-error:0.026467#011validation-error:0.0252\u001b[0m\n",
      "\u001b[34m[11:17:49] src/tree/updater_prune.cc:74: tree pruning end, 1 roots, 88 extra nodes, 10 pruned nodes, max_depth=12\u001b[0m\n",
      "\u001b[34m[117]#011train-error:0.026267#011validation-error:0.0249\u001b[0m\n",
      "\u001b[34m[11:17:52] src/tree/updater_prune.cc:74: tree pruning end, 1 roots, 80 extra nodes, 12 pruned nodes, max_depth=12\u001b[0m\n",
      "\u001b[34m[118]#011train-error:0.026267#011validation-error:0.0251\u001b[0m\n",
      "\u001b[34m[11:17:56] src/tree/updater_prune.cc:74: tree pruning end, 1 roots, 46 extra nodes, 12 pruned nodes, max_depth=12\u001b[0m\n",
      "\u001b[34m[119]#011train-error:0.026267#011validation-error:0.025\u001b[0m\n",
      "\u001b[34m[11:17:59] src/tree/updater_prune.cc:74: tree pruning end, 1 roots, 112 extra nodes, 10 pruned nodes, max_depth=12\u001b[0m\n",
      "\u001b[34m[120]#011train-error:0.026067#011validation-error:0.0249\u001b[0m\n",
      "\u001b[34m[11:18:03] src/tree/updater_prune.cc:74: tree pruning end, 1 roots, 56 extra nodes, 14 pruned nodes, max_depth=12\u001b[0m\n",
      "\u001b[34m[121]#011train-error:0.026267#011validation-error:0.025\u001b[0m\n",
      "\u001b[34m[11:18:07] src/tree/updater_prune.cc:74: tree pruning end, 1 roots, 86 extra nodes, 8 pruned nodes, max_depth=12\u001b[0m\n",
      "\u001b[34m[122]#011train-error:0.025733#011validation-error:0.0243\u001b[0m\n",
      "\u001b[34m[11:18:10] src/tree/updater_prune.cc:74: tree pruning end, 1 roots, 138 extra nodes, 18 pruned nodes, max_depth=12\u001b[0m\n",
      "\u001b[34m[123]#011train-error:0.025333#011validation-error:0.0239\u001b[0m\n",
      "\u001b[34m[11:18:13] src/tree/updater_prune.cc:74: tree pruning end, 1 roots, 74 extra nodes, 10 pruned nodes, max_depth=12\u001b[0m\n",
      "\u001b[34m[124]#011train-error:0.024867#011validation-error:0.0235\u001b[0m\n",
      "\u001b[34m[11:18:17] src/tree/updater_prune.cc:74: tree pruning end, 1 roots, 98 extra nodes, 8 pruned nodes, max_depth=12\u001b[0m\n",
      "\u001b[34m[125]#011train-error:0.024067#011validation-error:0.023\u001b[0m\n",
      "\u001b[34m[11:18:20] src/tree/updater_prune.cc:74: tree pruning end, 1 roots, 124 extra nodes, 10 pruned nodes, max_depth=12\u001b[0m\n",
      "\u001b[34m[126]#011train-error:0.023933#011validation-error:0.0228\u001b[0m\n",
      "\u001b[34m[11:18:23] src/tree/updater_prune.cc:74: tree pruning end, 1 roots, 66 extra nodes, 0 pruned nodes, max_depth=12\u001b[0m\n",
      "\u001b[34m[127]#011train-error:0.023533#011validation-error:0.0222\u001b[0m\n",
      "\u001b[34m[11:18:27] src/tree/updater_prune.cc:74: tree pruning end, 1 roots, 52 extra nodes, 4 pruned nodes, max_depth=12\u001b[0m\n",
      "\u001b[34m[128]#011train-error:0.0234#011validation-error:0.022\u001b[0m\n",
      "\u001b[34m[11:18:30] src/tree/updater_prune.cc:74: tree pruning end, 1 roots, 102 extra nodes, 10 pruned nodes, max_depth=12\u001b[0m\n",
      "\u001b[34m[129]#011train-error:0.0236#011validation-error:0.022\u001b[0m\n",
      "\u001b[34m[11:18:34] src/tree/updater_prune.cc:74: tree pruning end, 1 roots, 122 extra nodes, 16 pruned nodes, max_depth=12\u001b[0m\n",
      "\u001b[34m[130]#011train-error:0.0232#011validation-error:0.0215\u001b[0m\n",
      "\u001b[34m[11:18:37] src/tree/updater_prune.cc:74: tree pruning end, 1 roots, 76 extra nodes, 12 pruned nodes, max_depth=12\u001b[0m\n",
      "\u001b[34m[131]#011train-error:0.023133#011validation-error:0.0216\u001b[0m\n",
      "\u001b[34m[11:18:40] src/tree/updater_prune.cc:74: tree pruning end, 1 roots, 118 extra nodes, 14 pruned nodes, max_depth=12\u001b[0m\n",
      "\u001b[34m[132]#011train-error:0.0228#011validation-error:0.0212\u001b[0m\n",
      "\u001b[34m[11:18:44] src/tree/updater_prune.cc:74: tree pruning end, 1 roots, 70 extra nodes, 12 pruned nodes, max_depth=12\u001b[0m\n",
      "\u001b[34m[133]#011train-error:0.022667#011validation-error:0.0212\u001b[0m\n",
      "\u001b[34m[11:18:47] src/tree/updater_prune.cc:74: tree pruning end, 1 roots, 90 extra nodes, 12 pruned nodes, max_depth=12\u001b[0m\n",
      "\u001b[34m[134]#011train-error:0.022533#011validation-error:0.0212\u001b[0m\n",
      "\u001b[34m[11:18:51] src/tree/updater_prune.cc:74: tree pruning end, 1 roots, 134 extra nodes, 12 pruned nodes, max_depth=12\u001b[0m\n",
      "\u001b[34m[135]#011train-error:0.022467#011validation-error:0.021\u001b[0m\n",
      "\u001b[34m[11:18:54] src/tree/updater_prune.cc:74: tree pruning end, 1 roots, 72 extra nodes, 14 pruned nodes, max_depth=12\u001b[0m\n",
      "\u001b[34m[136]#011train-error:0.0222#011validation-error:0.0208\u001b[0m\n",
      "\u001b[34m[11:18:57] src/tree/updater_prune.cc:74: tree pruning end, 1 roots, 86 extra nodes, 4 pruned nodes, max_depth=12\u001b[0m\n",
      "\u001b[34m[137]#011train-error:0.021933#011validation-error:0.0208\u001b[0m\n",
      "\u001b[34m[11:19:01] src/tree/updater_prune.cc:74: tree pruning end, 1 roots, 94 extra nodes, 6 pruned nodes, max_depth=12\u001b[0m\n",
      "\u001b[34m[138]#011train-error:0.021467#011validation-error:0.0206\u001b[0m\n",
      "\u001b[34m[11:19:05] src/tree/updater_prune.cc:74: tree pruning end, 1 roots, 118 extra nodes, 12 pruned nodes, max_depth=12\u001b[0m\n",
      "\u001b[34m[139]#011train-error:0.021133#011validation-error:0.0203\u001b[0m\n",
      "\u001b[34m[11:19:08] src/tree/updater_prune.cc:74: tree pruning end, 1 roots, 124 extra nodes, 12 pruned nodes, max_depth=12\u001b[0m\n",
      "\u001b[34m[140]#011train-error:0.020733#011validation-error:0.02\u001b[0m\n",
      "\u001b[34m[11:19:12] src/tree/updater_prune.cc:74: tree pruning end, 1 roots, 64 extra nodes, 14 pruned nodes, max_depth=12\u001b[0m\n",
      "\u001b[34m[141]#011train-error:0.020667#011validation-error:0.0198\u001b[0m\n",
      "\u001b[34m[11:19:15] src/tree/updater_prune.cc:74: tree pruning end, 1 roots, 82 extra nodes, 8 pruned nodes, max_depth=12\u001b[0m\n",
      "\u001b[34m[142]#011train-error:0.0204#011validation-error:0.0192\u001b[0m\n",
      "\u001b[34m[11:19:18] src/tree/updater_prune.cc:74: tree pruning end, 1 roots, 90 extra nodes, 12 pruned nodes, max_depth=12\u001b[0m\n",
      "\u001b[34m[143]#011train-error:0.0204#011validation-error:0.0193\u001b[0m\n",
      "\u001b[34m[11:19:22] src/tree/updater_prune.cc:74: tree pruning end, 1 roots, 114 extra nodes, 20 pruned nodes, max_depth=12\u001b[0m\n",
      "\u001b[34m[144]#011train-error:0.0202#011validation-error:0.0191\u001b[0m\n",
      "\u001b[34m[11:19:25] src/tree/updater_prune.cc:74: tree pruning end, 1 roots, 76 extra nodes, 6 pruned nodes, max_depth=12\u001b[0m\n",
      "\u001b[34m[145]#011train-error:0.019867#011validation-error:0.0189\u001b[0m\n",
      "\u001b[34m[11:19:29] src/tree/updater_prune.cc:74: tree pruning end, 1 roots, 94 extra nodes, 6 pruned nodes, max_depth=12\u001b[0m\n",
      "\u001b[34m[146]#011train-error:0.0198#011validation-error:0.0186\u001b[0m\n",
      "\u001b[34m[11:19:32] src/tree/updater_prune.cc:74: tree pruning end, 1 roots, 112 extra nodes, 20 pruned nodes, max_depth=12\u001b[0m\n",
      "\u001b[34m[147]#011train-error:0.019667#011validation-error:0.0184\u001b[0m\n",
      "\u001b[34m[11:19:35] src/tree/updater_prune.cc:74: tree pruning end, 1 roots, 64 extra nodes, 2 pruned nodes, max_depth=12\u001b[0m\n",
      "\u001b[34m[148]#011train-error:0.0196#011validation-error:0.0183\u001b[0m\n",
      "\u001b[34m[11:19:39] src/tree/updater_prune.cc:74: tree pruning end, 1 roots, 70 extra nodes, 6 pruned nodes, max_depth=12\u001b[0m\n",
      "\u001b[34m[149]#011train-error:0.019733#011validation-error:0.0185\u001b[0m\n",
      "\u001b[34m[11:19:42] src/tree/updater_prune.cc:74: tree pruning end, 1 roots, 70 extra nodes, 16 pruned nodes, max_depth=12\u001b[0m\n",
      "\u001b[34m[150]#011train-error:0.019533#011validation-error:0.0182\u001b[0m\n",
      "\u001b[34m[11:19:46] src/tree/updater_prune.cc:74: tree pruning end, 1 roots, 118 extra nodes, 12 pruned nodes, max_depth=12\u001b[0m\n",
      "\u001b[34m[151]#011train-error:0.019133#011validation-error:0.0177\u001b[0m\n",
      "\u001b[34m[11:19:49] src/tree/updater_prune.cc:74: tree pruning end, 1 roots, 84 extra nodes, 18 pruned nodes, max_depth=12\u001b[0m\n",
      "\u001b[34m[152]#011train-error:0.018933#011validation-error:0.0178\u001b[0m\n",
      "\u001b[34m[11:19:52] src/tree/updater_prune.cc:74: tree pruning end, 1 roots, 76 extra nodes, 14 pruned nodes, max_depth=12\u001b[0m\n",
      "\u001b[34m[153]#011train-error:0.0186#011validation-error:0.0174\u001b[0m\n",
      "\u001b[34m[11:19:56] src/tree/updater_prune.cc:74: tree pruning end, 1 roots, 80 extra nodes, 6 pruned nodes, max_depth=12\u001b[0m\n",
      "\u001b[34m[154]#011train-error:0.0186#011validation-error:0.0176\u001b[0m\n",
      "\u001b[34m[11:19:59] src/tree/updater_prune.cc:74: tree pruning end, 1 roots, 78 extra nodes, 2 pruned nodes, max_depth=12\u001b[0m\n",
      "\u001b[34m[155]#011train-error:0.0186#011validation-error:0.0175\u001b[0m\n",
      "\u001b[34m[11:20:03] src/tree/updater_prune.cc:74: tree pruning end, 1 roots, 78 extra nodes, 14 pruned nodes, max_depth=12\u001b[0m\n",
      "\u001b[34m[156]#011train-error:0.018267#011validation-error:0.0172\u001b[0m\n",
      "\u001b[34m[11:20:07] src/tree/updater_prune.cc:74: tree pruning end, 1 roots, 88 extra nodes, 16 pruned nodes, max_depth=12\u001b[0m\n",
      "\u001b[34m[157]#011train-error:0.018133#011validation-error:0.0172\u001b[0m\n",
      "\u001b[34m[11:20:10] src/tree/updater_prune.cc:74: tree pruning end, 1 roots, 64 extra nodes, 10 pruned nodes, max_depth=12\u001b[0m\n",
      "\u001b[34m[158]#011train-error:0.018267#011validation-error:0.0174\u001b[0m\n",
      "\u001b[34m[11:20:13] src/tree/updater_prune.cc:74: tree pruning end, 1 roots, 40 extra nodes, 6 pruned nodes, max_depth=12\u001b[0m\n",
      "\u001b[34m[159]#011train-error:0.0182#011validation-error:0.0173\u001b[0m\n",
      "\u001b[34m[11:20:17] src/tree/updater_prune.cc:74: tree pruning end, 1 roots, 88 extra nodes, 14 pruned nodes, max_depth=12\u001b[0m\n",
      "\u001b[34m[160]#011train-error:0.018133#011validation-error:0.0175\u001b[0m\n",
      "\u001b[34m[11:20:20] src/tree/updater_prune.cc:74: tree pruning end, 1 roots, 72 extra nodes, 18 pruned nodes, max_depth=12\u001b[0m\n",
      "\u001b[34m[161]#011train-error:0.0178#011validation-error:0.017\u001b[0m\n",
      "\u001b[34m[11:20:24] src/tree/updater_prune.cc:74: tree pruning end, 1 roots, 128 extra nodes, 18 pruned nodes, max_depth=12\u001b[0m\n",
      "\u001b[34m[162]#011train-error:0.017333#011validation-error:0.0165\u001b[0m\n",
      "\u001b[34m[11:20:27] src/tree/updater_prune.cc:74: tree pruning end, 1 roots, 56 extra nodes, 10 pruned nodes, max_depth=12\u001b[0m\n",
      "\u001b[34m[163]#011train-error:0.0174#011validation-error:0.0167\u001b[0m\n",
      "\u001b[34m[11:20:30] src/tree/updater_prune.cc:74: tree pruning end, 1 roots, 78 extra nodes, 18 pruned nodes, max_depth=12\u001b[0m\n",
      "\u001b[34m[164]#011train-error:0.0174#011validation-error:0.0164\u001b[0m\n",
      "\u001b[34m[11:20:34] src/tree/updater_prune.cc:74: tree pruning end, 1 roots, 82 extra nodes, 10 pruned nodes, max_depth=12\u001b[0m\n",
      "\u001b[34m[165]#011train-error:0.017#011validation-error:0.0159\u001b[0m\n",
      "\u001b[34m[11:20:37] src/tree/updater_prune.cc:74: tree pruning end, 1 roots, 86 extra nodes, 20 pruned nodes, max_depth=12\u001b[0m\n",
      "\u001b[34m[166]#011train-error:0.016733#011validation-error:0.0158\u001b[0m\n",
      "\u001b[34m[11:20:40] src/tree/updater_prune.cc:74: tree pruning end, 1 roots, 58 extra nodes, 12 pruned nodes, max_depth=12\u001b[0m\n",
      "\u001b[34m[167]#011train-error:0.016733#011validation-error:0.0158\u001b[0m\n",
      "\u001b[34m[11:20:44] src/tree/updater_prune.cc:74: tree pruning end, 1 roots, 60 extra nodes, 8 pruned nodes, max_depth=12\u001b[0m\n",
      "\u001b[34m[168]#011train-error:0.016333#011validation-error:0.0153\u001b[0m\n",
      "\u001b[34m[11:20:47] src/tree/updater_prune.cc:74: tree pruning end, 1 roots, 84 extra nodes, 12 pruned nodes, max_depth=12\u001b[0m\n",
      "\u001b[34m[169]#011train-error:0.016467#011validation-error:0.0155\u001b[0m\n",
      "\u001b[34m[11:20:50] src/tree/updater_prune.cc:74: tree pruning end, 1 roots, 68 extra nodes, 20 pruned nodes, max_depth=12\u001b[0m\n",
      "\u001b[34m[170]#011train-error:0.016133#011validation-error:0.0151\u001b[0m\n",
      "\u001b[34m[11:20:54] src/tree/updater_prune.cc:74: tree pruning end, 1 roots, 92 extra nodes, 12 pruned nodes, max_depth=12\u001b[0m\n",
      "\u001b[34m[171]#011train-error:0.0158#011validation-error:0.0147\u001b[0m\n",
      "\u001b[34m[11:20:57] src/tree/updater_prune.cc:74: tree pruning end, 1 roots, 98 extra nodes, 22 pruned nodes, max_depth=12\u001b[0m\n",
      "\u001b[34m[172]#011train-error:0.015467#011validation-error:0.0145\u001b[0m\n",
      "\u001b[34m[11:21:01] src/tree/updater_prune.cc:74: tree pruning end, 1 roots, 64 extra nodes, 8 pruned nodes, max_depth=12\u001b[0m\n",
      "\u001b[34m[173]#011train-error:0.015333#011validation-error:0.0144\u001b[0m\n",
      "\u001b[34m[11:21:04] src/tree/updater_prune.cc:74: tree pruning end, 1 roots, 54 extra nodes, 14 pruned nodes, max_depth=12\u001b[0m\n",
      "\u001b[34m[174]#011train-error:0.015067#011validation-error:0.014\u001b[0m\n",
      "\u001b[34m[11:21:08] src/tree/updater_prune.cc:74: tree pruning end, 1 roots, 116 extra nodes, 14 pruned nodes, max_depth=12\u001b[0m\n",
      "\u001b[34m[175]#011train-error:0.014867#011validation-error:0.0141\u001b[0m\n",
      "\u001b[34m[11:21:12] src/tree/updater_prune.cc:74: tree pruning end, 1 roots, 54 extra nodes, 18 pruned nodes, max_depth=12\u001b[0m\n",
      "\u001b[34m[176]#011train-error:0.014733#011validation-error:0.014\u001b[0m\n",
      "\u001b[34m[11:21:15] src/tree/updater_prune.cc:74: tree pruning end, 1 roots, 64 extra nodes, 6 pruned nodes, max_depth=12\u001b[0m\n",
      "\u001b[34m[177]#011train-error:0.014733#011validation-error:0.0141\u001b[0m\n",
      "\u001b[34m[11:21:18] src/tree/updater_prune.cc:74: tree pruning end, 1 roots, 130 extra nodes, 14 pruned nodes, max_depth=12\u001b[0m\n",
      "\u001b[34m[178]#011train-error:0.0144#011validation-error:0.0136\u001b[0m\n",
      "\u001b[34m[11:21:22] src/tree/updater_prune.cc:74: tree pruning end, 1 roots, 36 extra nodes, 2 pruned nodes, max_depth=12\u001b[0m\n",
      "\u001b[34m[179]#011train-error:0.014467#011validation-error:0.0135\u001b[0m\n",
      "\u001b[34m[11:21:25] src/tree/updater_prune.cc:74: tree pruning end, 1 roots, 48 extra nodes, 8 pruned nodes, max_depth=12\u001b[0m\n",
      "\u001b[34m[180]#011train-error:0.0144#011validation-error:0.0134\u001b[0m\n",
      "\u001b[34m[11:21:29] src/tree/updater_prune.cc:74: tree pruning end, 1 roots, 46 extra nodes, 10 pruned nodes, max_depth=12\u001b[0m\n",
      "\u001b[34m[181]#011train-error:0.0144#011validation-error:0.0135\u001b[0m\n",
      "\u001b[34m[11:21:32] src/tree/updater_prune.cc:74: tree pruning end, 1 roots, 98 extra nodes, 20 pruned nodes, max_depth=12\u001b[0m\n",
      "\u001b[34m[182]#011train-error:0.014333#011validation-error:0.0134\u001b[0m\n",
      "\u001b[34m[11:21:35] src/tree/updater_prune.cc:74: tree pruning end, 1 roots, 92 extra nodes, 16 pruned nodes, max_depth=12\u001b[0m\n",
      "\u001b[34m[183]#011train-error:0.014333#011validation-error:0.0132\u001b[0m\n",
      "\u001b[34m[11:21:39] src/tree/updater_prune.cc:74: tree pruning end, 1 roots, 56 extra nodes, 8 pruned nodes, max_depth=12\u001b[0m\n",
      "\u001b[34m[184]#011train-error:0.014267#011validation-error:0.0133\u001b[0m\n",
      "\u001b[34m[11:21:42] src/tree/updater_prune.cc:74: tree pruning end, 1 roots, 94 extra nodes, 20 pruned nodes, max_depth=12\u001b[0m\n",
      "\u001b[34m[185]#011train-error:0.014067#011validation-error:0.0132\u001b[0m\n",
      "\u001b[34m[11:21:46] src/tree/updater_prune.cc:74: tree pruning end, 1 roots, 72 extra nodes, 18 pruned nodes, max_depth=12\u001b[0m\n",
      "\u001b[34m[186]#011train-error:0.014267#011validation-error:0.0134\u001b[0m\n",
      "\u001b[34m[11:21:49] src/tree/updater_prune.cc:74: tree pruning end, 1 roots, 124 extra nodes, 24 pruned nodes, max_depth=12\u001b[0m\n",
      "\u001b[34m[187]#011train-error:0.0142#011validation-error:0.0135\u001b[0m\n",
      "\u001b[34m[11:21:52] src/tree/updater_prune.cc:74: tree pruning end, 1 roots, 138 extra nodes, 28 pruned nodes, max_depth=12\u001b[0m\n",
      "\u001b[34m[188]#011train-error:0.013867#011validation-error:0.013\u001b[0m\n",
      "\u001b[34m[11:21:56] src/tree/updater_prune.cc:74: tree pruning end, 1 roots, 60 extra nodes, 6 pruned nodes, max_depth=12\u001b[0m\n",
      "\u001b[34m[189]#011train-error:0.013667#011validation-error:0.0129\u001b[0m\n",
      "\u001b[34m[11:21:59] src/tree/updater_prune.cc:74: tree pruning end, 1 roots, 70 extra nodes, 14 pruned nodes, max_depth=12\u001b[0m\n",
      "\u001b[34m[190]#011train-error:0.013733#011validation-error:0.0129\u001b[0m\n",
      "\u001b[34m[11:22:03] src/tree/updater_prune.cc:74: tree pruning end, 1 roots, 66 extra nodes, 10 pruned nodes, max_depth=12\u001b[0m\n",
      "\u001b[34m[191]#011train-error:0.013333#011validation-error:0.0124\u001b[0m\n",
      "\u001b[34m[11:22:07] src/tree/updater_prune.cc:74: tree pruning end, 1 roots, 80 extra nodes, 10 pruned nodes, max_depth=12\u001b[0m\n",
      "\u001b[34m[192]#011train-error:0.013467#011validation-error:0.0124\u001b[0m\n",
      "\u001b[34m[11:22:10] src/tree/updater_prune.cc:74: tree pruning end, 1 roots, 110 extra nodes, 14 pruned nodes, max_depth=12\u001b[0m\n",
      "\u001b[34m[193]#011train-error:0.012867#011validation-error:0.0119\u001b[0m\n",
      "\u001b[34m[11:22:14] src/tree/updater_prune.cc:74: tree pruning end, 1 roots, 86 extra nodes, 18 pruned nodes, max_depth=12\u001b[0m\n",
      "\u001b[34m[194]#011train-error:0.012867#011validation-error:0.0121\u001b[0m\n",
      "\u001b[34m[11:22:17] src/tree/updater_prune.cc:74: tree pruning end, 1 roots, 92 extra nodes, 8 pruned nodes, max_depth=12\u001b[0m\n",
      "\u001b[34m[195]#011train-error:0.012733#011validation-error:0.012\u001b[0m\n",
      "\u001b[34m[11:22:20] src/tree/updater_prune.cc:74: tree pruning end, 1 roots, 76 extra nodes, 10 pruned nodes, max_depth=12\u001b[0m\n",
      "\u001b[34m[196]#011train-error:0.012733#011validation-error:0.0121\u001b[0m\n",
      "\u001b[34m[11:22:24] src/tree/updater_prune.cc:74: tree pruning end, 1 roots, 54 extra nodes, 6 pruned nodes, max_depth=12\u001b[0m\n",
      "\u001b[34m[197]#011train-error:0.012733#011validation-error:0.0121\u001b[0m\n",
      "\u001b[34m[11:22:27] src/tree/updater_prune.cc:74: tree pruning end, 1 roots, 34 extra nodes, 4 pruned nodes, max_depth=12\u001b[0m\n",
      "\u001b[34m[198]#011train-error:0.0126#011validation-error:0.0118\u001b[0m\n",
      "\u001b[34m[11:22:31] src/tree/updater_prune.cc:74: tree pruning end, 1 roots, 72 extra nodes, 10 pruned nodes, max_depth=12\u001b[0m\n",
      "\u001b[34m[199]#011train-error:0.012467#011validation-error:0.0117\u001b[0m\n",
      "Training seconds: 889\n",
      "Billable seconds: 889\n"
     ]
    }
   ],
   "source": [
    "# TODO: Create a new estimator object attached to the best training job found during hyperparameter tuning\n",
    "\n",
    "xgb_attached = sagemaker.estimator.Estimator.attach(xgb_hyperparameter_tuner.best_training_job())"
   ]
  },
  {
   "cell_type": "code",
   "execution_count": null,
   "metadata": {},
   "outputs": [],
   "source": [
    "xgb_attached"
   ]
  },
  {
   "cell_type": "markdown",
   "metadata": {},
   "source": [
    "Now that we have an estimator object attached to the correct training job, we can proceed as we normally would and create a transformer object."
   ]
  },
  {
   "cell_type": "code",
   "execution_count": 78,
   "metadata": {},
   "outputs": [
    {
     "name": "stderr",
     "output_type": "stream",
     "text": [
      "Parameter image will be renamed to image_uri in SageMaker Python SDK v2.\n",
      "Using already existing model: xgboost-210623-1037-010-cab00c59\n"
     ]
    }
   ],
   "source": [
    "# TODO: Create a transformer object from the attached estimator. Using an instance count of 1 and an instance type of ml.m4.xlarge\n",
    "#       should be more than enough.\n",
    "\n",
    "xgb_transformer = xgb_attached.transformer(instance_count = 1, instance_type = 'ml.m4.xlarge')"
   ]
  },
  {
   "cell_type": "markdown",
   "metadata": {},
   "source": [
    "Next we actually perform the transform job. When doing so we need to make sure to specify the type of data we are sending so that it is serialized correctly in the background. In our case we are providing our model with csv data so we specify `text/csv`. Also, if the test data that we have provided is too large to process all at once then we need to specify how the data file should be split up. Since each line is a single entry in our data set we tell SageMaker that it can split the input on each line."
   ]
  },
  {
   "cell_type": "code",
   "execution_count": 87,
   "metadata": {},
   "outputs": [],
   "source": [
    "# TODO: Start the transform job. Make sure to specify the content type and the split type of the test data.\n",
    "xgb_transformer.transform(test_location, content_type='text/csv', split_type='Line')"
   ]
  },
  {
   "cell_type": "code",
   "execution_count": null,
   "metadata": {},
   "outputs": [],
   "source": []
  },
  {
   "cell_type": "markdown",
   "metadata": {},
   "source": [
    "Currently the transform job is running but it is doing so in the background. Since we wish to wait until the transform job is done and we would like a bit of feedback we can run the `wait()` method."
   ]
  },
  {
   "cell_type": "code",
   "execution_count": 89,
   "metadata": {},
   "outputs": [
    {
     "name": "stdout",
     "output_type": "stream",
     "text": [
      "..............................\u001b[34mArguments: serve\u001b[0m\n",
      "\u001b[34m[2021-06-23 13:25:21 +0000] [1] [INFO] Starting gunicorn 19.9.0\u001b[0m\n",
      "\u001b[34m[2021-06-23 13:25:21 +0000] [1] [INFO] Listening at: http://0.0.0.0:8080 (1)\u001b[0m\n",
      "\u001b[34m[2021-06-23 13:25:21 +0000] [1] [INFO] Using worker: gevent\u001b[0m\n",
      "\u001b[34m[2021-06-23 13:25:21 +0000] [21] [INFO] Booting worker with pid: 21\u001b[0m\n",
      "\u001b[34m[2021-06-23 13:25:21 +0000] [22] [INFO] Booting worker with pid: 22\u001b[0m\n",
      "\u001b[34m/opt/amazon/lib/python3.7/site-packages/gunicorn/workers/ggevent.py:65: MonkeyPatchWarning: Monkey-patching ssl after ssl has already been imported may lead to errors, including RecursionError on Python 3.6. It may also silently lead to incorrect behaviour on Python 3.7. Please monkey-patch earlier. See https://github.com/gevent/gevent/issues/1016. Modules that had direct imports (NOT patched): ['urllib3.util.ssl_ (/opt/amazon/lib/python3.7/site-packages/urllib3/util/ssl_.py)', 'urllib3.util (/opt/amazon/lib/python3.7/site-packages/urllib3/util/__init__.py)']. \n",
      "  monkey.patch_all(subprocess=True)\u001b[0m\n",
      "\u001b[34m[2021-06-23:13:25:21:INFO] Model loaded successfully for worker : 21\u001b[0m\n",
      "\u001b[34m/opt/amazon/lib/python3.7/site-packages/gunicorn/workers/ggevent.py:65: MonkeyPatchWarning: Monkey-patching ssl after ssl has already been imported may lead to errors, including RecursionError on Python 3.6. It may also silently lead to incorrect behaviour on Python 3.7. Please monkey-patch earlier. See https://github.com/gevent/gevent/issues/1016. Modules that had direct imports (NOT patched): ['urllib3.util.ssl_ (/opt/amazon/lib/python3.7/site-packages/urllib3/util/ssl_.py)', 'urllib3.util (/opt/amazon/lib/python3.7/site-packages/urllib3/util/__init__.py)']. \n",
      "  monkey.patch_all(subprocess=True)\u001b[0m\n",
      "\u001b[34m[2021-06-23:13:25:21:INFO] Model loaded successfully for worker : 22\u001b[0m\n",
      "\u001b[35mArguments: serve\u001b[0m\n",
      "\u001b[35m[2021-06-23 13:25:21 +0000] [1] [INFO] Starting gunicorn 19.9.0\u001b[0m\n",
      "\u001b[35m[2021-06-23 13:25:21 +0000] [1] [INFO] Listening at: http://0.0.0.0:8080 (1)\u001b[0m\n",
      "\u001b[35m[2021-06-23 13:25:21 +0000] [1] [INFO] Using worker: gevent\u001b[0m\n",
      "\u001b[35m[2021-06-23 13:25:21 +0000] [21] [INFO] Booting worker with pid: 21\u001b[0m\n",
      "\u001b[35m[2021-06-23 13:25:21 +0000] [22] [INFO] Booting worker with pid: 22\u001b[0m\n",
      "\u001b[35m/opt/amazon/lib/python3.7/site-packages/gunicorn/workers/ggevent.py:65: MonkeyPatchWarning: Monkey-patching ssl after ssl has already been imported may lead to errors, including RecursionError on Python 3.6. It may also silently lead to incorrect behaviour on Python 3.7. Please monkey-patch earlier. See https://github.com/gevent/gevent/issues/1016. Modules that had direct imports (NOT patched): ['urllib3.util.ssl_ (/opt/amazon/lib/python3.7/site-packages/urllib3/util/ssl_.py)', 'urllib3.util (/opt/amazon/lib/python3.7/site-packages/urllib3/util/__init__.py)']. \n",
      "  monkey.patch_all(subprocess=True)\u001b[0m\n",
      "\u001b[35m[2021-06-23:13:25:21:INFO] Model loaded successfully for worker : 21\u001b[0m\n",
      "\u001b[35m/opt/amazon/lib/python3.7/site-packages/gunicorn/workers/ggevent.py:65: MonkeyPatchWarning: Monkey-patching ssl after ssl has already been imported may lead to errors, including RecursionError on Python 3.6. It may also silently lead to incorrect behaviour on Python 3.7. Please monkey-patch earlier. See https://github.com/gevent/gevent/issues/1016. Modules that had direct imports (NOT patched): ['urllib3.util.ssl_ (/opt/amazon/lib/python3.7/site-packages/urllib3/util/ssl_.py)', 'urllib3.util (/opt/amazon/lib/python3.7/site-packages/urllib3/util/__init__.py)']. \n",
      "  monkey.patch_all(subprocess=True)\u001b[0m\n",
      "\u001b[35m[2021-06-23:13:25:21:INFO] Model loaded successfully for worker : 22\u001b[0m\n",
      "\u001b[34m[2021-06-23 13:25:21 +0000] [23] [INFO] Booting worker with pid: 23\u001b[0m\n",
      "\u001b[34m[2021-06-23 13:25:21 +0000] [24] [INFO] Booting worker with pid: 24\u001b[0m\n",
      "\u001b[34m/opt/amazon/lib/python3.7/site-packages/gunicorn/workers/ggevent.py:65: MonkeyPatchWarning: Monkey-patching ssl after ssl has already been imported may lead to errors, including RecursionError on Python 3.6. It may also silently lead to incorrect behaviour on Python 3.7. Please monkey-patch earlier. See https://github.com/gevent/gevent/issues/1016. Modules that had direct imports (NOT patched): ['urllib3.util.ssl_ (/opt/amazon/lib/python3.7/site-packages/urllib3/util/ssl_.py)', 'urllib3.util (/opt/amazon/lib/python3.7/site-packages/urllib3/util/__init__.py)']. \n",
      "  monkey.patch_all(subprocess=True)\u001b[0m\n",
      "\u001b[34m[2021-06-23:13:25:21:INFO] Model loaded successfully for worker : 23\u001b[0m\n",
      "\u001b[34m/opt/amazon/lib/python3.7/site-packages/gunicorn/workers/ggevent.py:65: MonkeyPatchWarning: Monkey-patching ssl after ssl has already been imported may lead to errors, including RecursionError on Python 3.6. It may also silently lead to incorrect behaviour on Python 3.7. Please monkey-patch earlier. See https://github.com/gevent/gevent/issues/1016. Modules that had direct imports (NOT patched): ['urllib3.util.ssl_ (/opt/amazon/lib/python3.7/site-packages/urllib3/util/ssl_.py)', 'urllib3.util (/opt/amazon/lib/python3.7/site-packages/urllib3/util/__init__.py)']. \n",
      "  monkey.patch_all(subprocess=True)\u001b[0m\n",
      "\u001b[34m[2021-06-23:13:25:21:INFO] Model loaded successfully for worker : 24\u001b[0m\n",
      "\u001b[35m[2021-06-23 13:25:21 +0000] [23] [INFO] Booting worker with pid: 23\u001b[0m\n",
      "\u001b[35m[2021-06-23 13:25:21 +0000] [24] [INFO] Booting worker with pid: 24\u001b[0m\n",
      "\u001b[35m/opt/amazon/lib/python3.7/site-packages/gunicorn/workers/ggevent.py:65: MonkeyPatchWarning: Monkey-patching ssl after ssl has already been imported may lead to errors, including RecursionError on Python 3.6. It may also silently lead to incorrect behaviour on Python 3.7. Please monkey-patch earlier. See https://github.com/gevent/gevent/issues/1016. Modules that had direct imports (NOT patched): ['urllib3.util.ssl_ (/opt/amazon/lib/python3.7/site-packages/urllib3/util/ssl_.py)', 'urllib3.util (/opt/amazon/lib/python3.7/site-packages/urllib3/util/__init__.py)']. \n",
      "  monkey.patch_all(subprocess=True)\u001b[0m\n",
      "\u001b[35m[2021-06-23:13:25:21:INFO] Model loaded successfully for worker : 23\u001b[0m\n",
      "\u001b[35m/opt/amazon/lib/python3.7/site-packages/gunicorn/workers/ggevent.py:65: MonkeyPatchWarning: Monkey-patching ssl after ssl has already been imported may lead to errors, including RecursionError on Python 3.6. It may also silently lead to incorrect behaviour on Python 3.7. Please monkey-patch earlier. See https://github.com/gevent/gevent/issues/1016. Modules that had direct imports (NOT patched): ['urllib3.util.ssl_ (/opt/amazon/lib/python3.7/site-packages/urllib3/util/ssl_.py)', 'urllib3.util (/opt/amazon/lib/python3.7/site-packages/urllib3/util/__init__.py)']. \n",
      "  monkey.patch_all(subprocess=True)\u001b[0m\n",
      "\u001b[35m[2021-06-23:13:25:21:INFO] Model loaded successfully for worker : 24\u001b[0m\n",
      "\u001b[32m2021-06-23T13:25:25.247:[sagemaker logs]: MaxConcurrentTransforms=4, MaxPayloadInMB=6, BatchStrategy=MULTI_RECORD\u001b[0m\n",
      "\u001b[34m[2021-06-23:13:25:32:INFO] Sniff delimiter as ','\u001b[0m\n",
      "\u001b[34m[2021-06-23:13:25:32:INFO] Determined delimiter of CSV input is ','\u001b[0m\n",
      "\u001b[34m[2021-06-23:13:25:32:INFO] Sniff delimiter as ','\u001b[0m\n",
      "\u001b[34m[2021-06-23:13:25:32:INFO] Determined delimiter of CSV input is ','\u001b[0m\n",
      "\u001b[34m[2021-06-23:13:25:32:INFO] Sniff delimiter as ','\u001b[0m\n",
      "\u001b[34m[2021-06-23:13:25:32:INFO] Determined delimiter of CSV input is ','\u001b[0m\n",
      "\u001b[35m[2021-06-23:13:25:32:INFO] Sniff delimiter as ','\u001b[0m\n",
      "\u001b[35m[2021-06-23:13:25:32:INFO] Determined delimiter of CSV input is ','\u001b[0m\n",
      "\u001b[35m[2021-06-23:13:25:32:INFO] Sniff delimiter as ','\u001b[0m\n",
      "\u001b[35m[2021-06-23:13:25:32:INFO] Determined delimiter of CSV input is ','\u001b[0m\n",
      "\u001b[35m[2021-06-23:13:25:32:INFO] Sniff delimiter as ','\u001b[0m\n",
      "\u001b[35m[2021-06-23:13:25:32:INFO] Determined delimiter of CSV input is ','\u001b[0m\n",
      "\u001b[34m[2021-06-23:13:25:35:INFO] Sniff delimiter as ','\u001b[0m\n",
      "\u001b[34m[2021-06-23:13:25:35:INFO] Determined delimiter of CSV input is ','\u001b[0m\n",
      "\u001b[35m[2021-06-23:13:25:35:INFO] Sniff delimiter as ','\u001b[0m\n",
      "\u001b[35m[2021-06-23:13:25:35:INFO] Determined delimiter of CSV input is ','\u001b[0m\n",
      "\u001b[34m[2021-06-23:13:25:36:INFO] Sniff delimiter as ','\u001b[0m\n",
      "\u001b[35m[2021-06-23:13:25:36:INFO] Sniff delimiter as ','\u001b[0m\n",
      "\u001b[34m[2021-06-23:13:25:36:INFO] Determined delimiter of CSV input is ','\u001b[0m\n",
      "\u001b[35m[2021-06-23:13:25:36:INFO] Determined delimiter of CSV input is ','\u001b[0m\n",
      "\u001b[34m[2021-06-23:13:25:36:INFO] Sniff delimiter as ','\u001b[0m\n",
      "\u001b[34m[2021-06-23:13:25:36:INFO] Determined delimiter of CSV input is ','\u001b[0m\n",
      "\u001b[34m[2021-06-23:13:25:37:INFO] Sniff delimiter as ','\u001b[0m\n",
      "\u001b[34m[2021-06-23:13:25:37:INFO] Determined delimiter of CSV input is ','\u001b[0m\n",
      "\u001b[35m[2021-06-23:13:25:36:INFO] Sniff delimiter as ','\u001b[0m\n",
      "\u001b[35m[2021-06-23:13:25:36:INFO] Determined delimiter of CSV input is ','\u001b[0m\n",
      "\u001b[35m[2021-06-23:13:25:37:INFO] Sniff delimiter as ','\u001b[0m\n",
      "\u001b[35m[2021-06-23:13:25:37:INFO] Determined delimiter of CSV input is ','\u001b[0m\n",
      "\u001b[34m[2021-06-23:13:25:39:INFO] Sniff delimiter as ','\u001b[0m\n",
      "\u001b[34m[2021-06-23:13:25:39:INFO] Determined delimiter of CSV input is ','\u001b[0m\n",
      "\u001b[34m[2021-06-23:13:25:40:INFO] Sniff delimiter as ','\u001b[0m\n",
      "\u001b[35m[2021-06-23:13:25:39:INFO] Sniff delimiter as ','\u001b[0m\n",
      "\u001b[35m[2021-06-23:13:25:39:INFO] Determined delimiter of CSV input is ','\u001b[0m\n",
      "\u001b[35m[2021-06-23:13:25:40:INFO] Sniff delimiter as ','\u001b[0m\n",
      "\u001b[34m[2021-06-23:13:25:40:INFO] Determined delimiter of CSV input is ','\u001b[0m\n",
      "\u001b[35m[2021-06-23:13:25:40:INFO] Determined delimiter of CSV input is ','\u001b[0m\n",
      "\u001b[34m[2021-06-23:13:25:43:INFO] Sniff delimiter as ','\u001b[0m\n",
      "\u001b[34m[2021-06-23:13:25:43:INFO] Determined delimiter of CSV input is ','\u001b[0m\n",
      "\u001b[34m[2021-06-23:13:25:43:INFO] Sniff delimiter as ','\u001b[0m\n",
      "\u001b[34m[2021-06-23:13:25:43:INFO] Determined delimiter of CSV input is ','\u001b[0m\n",
      "\u001b[34m[2021-06-23:13:25:43:INFO] Sniff delimiter as ','\u001b[0m\n",
      "\u001b[34m[2021-06-23:13:25:43:INFO] Determined delimiter of CSV input is ','\u001b[0m\n",
      "\u001b[34m[2021-06-23:13:25:43:INFO] Sniff delimiter as ','\u001b[0m\n",
      "\u001b[34m[2021-06-23:13:25:43:INFO] Determined delimiter of CSV input is ','\u001b[0m\n",
      "\u001b[35m[2021-06-23:13:25:43:INFO] Sniff delimiter as ','\u001b[0m\n",
      "\u001b[35m[2021-06-23:13:25:43:INFO] Determined delimiter of CSV input is ','\u001b[0m\n",
      "\u001b[35m[2021-06-23:13:25:43:INFO] Sniff delimiter as ','\u001b[0m\n",
      "\u001b[35m[2021-06-23:13:25:43:INFO] Determined delimiter of CSV input is ','\u001b[0m\n",
      "\u001b[35m[2021-06-23:13:25:43:INFO] Sniff delimiter as ','\u001b[0m\n",
      "\u001b[35m[2021-06-23:13:25:43:INFO] Determined delimiter of CSV input is ','\u001b[0m\n",
      "\u001b[35m[2021-06-23:13:25:43:INFO] Sniff delimiter as ','\u001b[0m\n",
      "\u001b[35m[2021-06-23:13:25:43:INFO] Determined delimiter of CSV input is ','\u001b[0m\n",
      "\u001b[34m[2021-06-23:13:25:47:INFO] Sniff delimiter as ','\u001b[0m\n",
      "\u001b[34m[2021-06-23:13:25:47:INFO] Determined delimiter of CSV input is ','\u001b[0m\n",
      "\u001b[35m[2021-06-23:13:25:47:INFO] Sniff delimiter as ','\u001b[0m\n",
      "\u001b[35m[2021-06-23:13:25:47:INFO] Determined delimiter of CSV input is ','\u001b[0m\n",
      "\u001b[34m[2021-06-23:13:25:47:INFO] Sniff delimiter as ','\u001b[0m\n",
      "\u001b[34m[2021-06-23:13:25:47:INFO] Determined delimiter of CSV input is ','\u001b[0m\n",
      "\u001b[34m[2021-06-23:13:25:47:INFO] Sniff delimiter as ','\u001b[0m\n",
      "\u001b[34m[2021-06-23:13:25:47:INFO] Determined delimiter of CSV input is ','\u001b[0m\n",
      "\u001b[34m[2021-06-23:13:25:47:INFO] Sniff delimiter as ','\u001b[0m\n",
      "\u001b[34m[2021-06-23:13:25:47:INFO] Determined delimiter of CSV input is ','\u001b[0m\n",
      "\u001b[35m[2021-06-23:13:25:47:INFO] Sniff delimiter as ','\u001b[0m\n",
      "\u001b[35m[2021-06-23:13:25:47:INFO] Determined delimiter of CSV input is ','\u001b[0m\n",
      "\u001b[35m[2021-06-23:13:25:47:INFO] Sniff delimiter as ','\u001b[0m\n",
      "\u001b[35m[2021-06-23:13:25:47:INFO] Determined delimiter of CSV input is ','\u001b[0m\n",
      "\u001b[35m[2021-06-23:13:25:47:INFO] Sniff delimiter as ','\u001b[0m\n",
      "\u001b[35m[2021-06-23:13:25:47:INFO] Determined delimiter of CSV input is ','\u001b[0m\n",
      "\u001b[34m[2021-06-23:13:25:51:INFO] Sniff delimiter as ','\u001b[0m\n",
      "\u001b[34m[2021-06-23:13:25:51:INFO] Determined delimiter of CSV input is ','\u001b[0m\n",
      "\u001b[34m[2021-06-23:13:25:51:INFO] Sniff delimiter as ','\u001b[0m\n",
      "\u001b[34m[2021-06-23:13:25:51:INFO] Determined delimiter of CSV input is ','\u001b[0m\n",
      "\u001b[35m[2021-06-23:13:25:51:INFO] Sniff delimiter as ','\u001b[0m\n",
      "\u001b[35m[2021-06-23:13:25:51:INFO] Determined delimiter of CSV input is ','\u001b[0m\n",
      "\u001b[35m[2021-06-23:13:25:51:INFO] Sniff delimiter as ','\u001b[0m\n",
      "\u001b[35m[2021-06-23:13:25:51:INFO] Determined delimiter of CSV input is ','\u001b[0m\n",
      "\u001b[34m[2021-06-23:13:25:55:INFO] Sniff delimiter as ','\u001b[0m\n",
      "\u001b[34m[2021-06-23:13:25:55:INFO] Determined delimiter of CSV input is ','\u001b[0m\n",
      "\u001b[34m[2021-06-23:13:25:55:INFO] Sniff delimiter as ','\u001b[0m\n",
      "\u001b[34m[2021-06-23:13:25:55:INFO] Determined delimiter of CSV input is ','\u001b[0m\n",
      "\u001b[34m[2021-06-23:13:25:55:INFO] Sniff delimiter as ','\u001b[0m\n",
      "\u001b[34m[2021-06-23:13:25:55:INFO] Determined delimiter of CSV input is ','\u001b[0m\n",
      "\u001b[34m[2021-06-23:13:25:55:INFO] Sniff delimiter as ','\u001b[0m\n",
      "\u001b[34m[2021-06-23:13:25:55:INFO] Determined delimiter of CSV input is ','\u001b[0m\n",
      "\u001b[35m[2021-06-23:13:25:55:INFO] Sniff delimiter as ','\u001b[0m\n",
      "\u001b[35m[2021-06-23:13:25:55:INFO] Determined delimiter of CSV input is ','\u001b[0m\n",
      "\u001b[35m[2021-06-23:13:25:55:INFO] Sniff delimiter as ','\u001b[0m\n",
      "\u001b[35m[2021-06-23:13:25:55:INFO] Determined delimiter of CSV input is ','\u001b[0m\n",
      "\u001b[35m[2021-06-23:13:25:55:INFO] Sniff delimiter as ','\u001b[0m\n",
      "\u001b[35m[2021-06-23:13:25:55:INFO] Determined delimiter of CSV input is ','\u001b[0m\n",
      "\u001b[35m[2021-06-23:13:25:55:INFO] Sniff delimiter as ','\u001b[0m\n",
      "\u001b[35m[2021-06-23:13:25:55:INFO] Determined delimiter of CSV input is ','\u001b[0m\n",
      "\u001b[34m[2021-06-23:13:25:58:INFO] Sniff delimiter as ','\u001b[0m\n",
      "\u001b[34m[2021-06-23:13:25:58:INFO] Determined delimiter of CSV input is ','\u001b[0m\n",
      "\u001b[34m[2021-06-23:13:25:59:INFO] Sniff delimiter as ','\u001b[0m\n",
      "\u001b[34m[2021-06-23:13:25:59:INFO] Determined delimiter of CSV input is ','\u001b[0m\n",
      "\u001b[35m[2021-06-23:13:25:58:INFO] Sniff delimiter as ','\u001b[0m\n",
      "\u001b[35m[2021-06-23:13:25:58:INFO] Determined delimiter of CSV input is ','\u001b[0m\n",
      "\u001b[35m[2021-06-23:13:25:59:INFO] Sniff delimiter as ','\u001b[0m\n",
      "\u001b[35m[2021-06-23:13:25:59:INFO] Determined delimiter of CSV input is ','\u001b[0m\n",
      "\u001b[34m[2021-06-23:13:25:59:INFO] Sniff delimiter as ','\u001b[0m\n",
      "\u001b[34m[2021-06-23:13:25:59:INFO] Determined delimiter of CSV input is ','\u001b[0m\n",
      "\u001b[34m[2021-06-23:13:25:59:INFO] Sniff delimiter as ','\u001b[0m\n",
      "\u001b[34m[2021-06-23:13:25:59:INFO] Determined delimiter of CSV input is ','\u001b[0m\n",
      "\u001b[35m[2021-06-23:13:25:59:INFO] Sniff delimiter as ','\u001b[0m\n",
      "\u001b[35m[2021-06-23:13:25:59:INFO] Determined delimiter of CSV input is ','\u001b[0m\n",
      "\u001b[35m[2021-06-23:13:25:59:INFO] Sniff delimiter as ','\u001b[0m\n",
      "\u001b[35m[2021-06-23:13:25:59:INFO] Determined delimiter of CSV input is ','\u001b[0m\n",
      "\u001b[34m[2021-06-23:13:26:02:INFO] Sniff delimiter as ','\u001b[0m\n",
      "\u001b[34m[2021-06-23:13:26:02:INFO] Determined delimiter of CSV input is ','\u001b[0m\n",
      "\u001b[34m[2021-06-23:13:26:02:INFO] Sniff delimiter as ','\u001b[0m\n",
      "\u001b[34m[2021-06-23:13:26:02:INFO] Determined delimiter of CSV input is ','\u001b[0m\n",
      "\u001b[34m[2021-06-23:13:26:02:INFO] Sniff delimiter as ','\u001b[0m\n",
      "\u001b[34m[2021-06-23:13:26:02:INFO] Determined delimiter of CSV input is ','\u001b[0m\n",
      "\u001b[34m[2021-06-23:13:26:03:INFO] Sniff delimiter as ','\u001b[0m\n",
      "\u001b[34m[2021-06-23:13:26:03:INFO] Determined delimiter of CSV input is ','\u001b[0m\n",
      "\u001b[35m[2021-06-23:13:26:02:INFO] Sniff delimiter as ','\u001b[0m\n",
      "\u001b[35m[2021-06-23:13:26:02:INFO] Determined delimiter of CSV input is ','\u001b[0m\n",
      "\u001b[35m[2021-06-23:13:26:02:INFO] Sniff delimiter as ','\u001b[0m\n",
      "\u001b[35m[2021-06-23:13:26:02:INFO] Determined delimiter of CSV input is ','\u001b[0m\n",
      "\u001b[35m[2021-06-23:13:26:02:INFO] Sniff delimiter as ','\u001b[0m\n",
      "\u001b[35m[2021-06-23:13:26:02:INFO] Determined delimiter of CSV input is ','\u001b[0m\n",
      "\u001b[35m[2021-06-23:13:26:03:INFO] Sniff delimiter as ','\u001b[0m\n",
      "\u001b[35m[2021-06-23:13:26:03:INFO] Determined delimiter of CSV input is ','\u001b[0m\n",
      "\n"
     ]
    }
   ],
   "source": [
    "xgb_transformer.wait()"
   ]
  },
  {
   "cell_type": "markdown",
   "metadata": {},
   "source": [
    "Now the transform job has executed and the result, the estimated sentiment of each review, has been saved on S3. Since we would rather work on this file locally we can perform a bit of notebook magic to copy the file to the `data_dir`."
   ]
  },
  {
   "cell_type": "code",
   "execution_count": 90,
   "metadata": {},
   "outputs": [
    {
     "name": "stdout",
     "output_type": "stream",
     "text": [
      "download: s3://sagemaker-us-east-1-039506837819/xgboost-210623-1037-010-cab00c59-2021-06-23-13-20-25-889/test.csv.out to ../data/xgboost/test.csv.out\r\n"
     ]
    }
   ],
   "source": [
    "!aws s3 cp --recursive $xgb_transformer.output_path $data_dir"
   ]
  },
  {
   "cell_type": "markdown",
   "metadata": {},
   "source": [
    "The last step is now to read in the output from our model, convert the output to something a little more usable, in this case we want the sentiment to be either `1` (positive) or `0` (negative), and then compare to the ground truth labels."
   ]
  },
  {
   "cell_type": "code",
   "execution_count": 91,
   "metadata": {},
   "outputs": [],
   "source": [
    "predictions = pd.read_csv(os.path.join(data_dir, 'test.csv.out'), header=None)\n",
    "predictions = [round(num) for num in predictions.squeeze().values]"
   ]
  },
  {
   "cell_type": "code",
   "execution_count": 92,
   "metadata": {},
   "outputs": [
    {
     "data": {
      "text/plain": [
       "0.8652"
      ]
     },
     "execution_count": 92,
     "metadata": {},
     "output_type": "execute_result"
    }
   ],
   "source": [
    "from sklearn.metrics import accuracy_score\n",
    "accuracy_score(test_y, predictions)"
   ]
  },
  {
   "cell_type": "code",
   "execution_count": 94,
   "metadata": {},
   "outputs": [],
   "source": [
    "# pd.read_csv(os.path.join(data_dir, 'test.csv.out'), header=None)"
   ]
  },
  {
   "cell_type": "markdown",
   "metadata": {},
   "source": [
    "## Optional: Clean up\n",
    "\n",
    "The default notebook instance on SageMaker doesn't have a lot of excess disk space available. As you continue to complete and execute notebooks you will eventually fill up this disk space, leading to errors which can be difficult to diagnose. Once you are completely finished using a notebook it is a good idea to remove the files that you created along the way. Of course, you can do this from the terminal or from the notebook hub if you would like. The cell below contains some commands to clean up the created files from within the notebook."
   ]
  },
  {
   "cell_type": "code",
   "execution_count": null,
   "metadata": {},
   "outputs": [],
   "source": [
    "# First we will remove all of the files contained in the data_dir directory\n",
    "!rm $data_dir/*\n",
    "\n",
    "# And then we delete the directory itself\n",
    "!rmdir $data_dir\n",
    "\n",
    "# Similarly we will remove the files in the cache_dir directory and the directory itself\n",
    "!rm $cache_dir/*\n",
    "!rmdir $cache_dir"
   ]
  },
  {
   "cell_type": "code",
   "execution_count": null,
   "metadata": {},
   "outputs": [],
   "source": []
  }
 ],
 "metadata": {
  "kernelspec": {
   "display_name": "conda_python3",
   "language": "python",
   "name": "conda_python3"
  },
  "language_info": {
   "codemirror_mode": {
    "name": "ipython",
    "version": 3
   },
   "file_extension": ".py",
   "mimetype": "text/x-python",
   "name": "python",
   "nbconvert_exporter": "python",
   "pygments_lexer": "ipython3",
   "version": "3.6.13"
  }
 },
 "nbformat": 4,
 "nbformat_minor": 2
}
